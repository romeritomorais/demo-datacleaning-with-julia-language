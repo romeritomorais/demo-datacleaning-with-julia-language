{
 "cells": [
  {
   "cell_type": "code",
   "execution_count": 1,
   "metadata": {},
   "outputs": [],
   "source": [
    "using CSV;\n",
    "using DataFrames;\n",
    "using Statistics;"
   ]
  },
  {
   "cell_type": "code",
   "execution_count": 2,
   "metadata": {},
   "outputs": [
    {
     "name": "stdout",
     "output_type": "stream",
     "text": [
      "total 112796\n",
      "-rw-rw-r--. 1 1000 1000        72 Feb  8 13:45 Demo Julia language.ipynb\n",
      "-rw-r--r--. 1 1000 1000 115498646 Feb  6 02:03 movies.csv\n"
     ]
    }
   ],
   "source": [
    ";ls -n"
   ]
  },
  {
   "cell_type": "code",
   "execution_count": 4,
   "metadata": {},
   "outputs": [
    {
     "data": {
      "text/html": [
       "<table class=\"data-frame\"><thead><tr><th></th><th>filmtv_id</th><th>titolo_originale</th><th>titolo_italiano</th></tr><tr><th></th><th>Int64</th><th>String</th><th>String</th></tr></thead><tbody><p>5 rows × 14 columns (omitted printing of 11 columns)</p><tr><th>1</th><td>2</td><td>Bugs Bunny's Third Movie: 1001 Rabbit Tales</td><td>Le 1001 favole di Bugs Bunny</td></tr><tr><th>2</th><td>3</td><td>18 anni tra una settimana</td><td>18 anni tra una settimana</td></tr><tr><th>3</th><td>17</td><td>Ride a Wild Pony</td><td>A cavallo di un pony selvaggio</td></tr><tr><th>4</th><td>18</td><td>Diner</td><td>A cena con gli amici</td></tr><tr><th>5</th><td>20</td><td>A che servono questi quattrini?</td><td>A che servono questi quattrini?</td></tr></tbody></table>"
      ],
      "text/latex": [
       "\\begin{tabular}{r|cccc}\n",
       "\t& filmtv\\_id & titolo\\_originale & titolo\\_italiano & \\\\\n",
       "\t\\hline\n",
       "\t& Int64 & String & String & \\\\\n",
       "\t\\hline\n",
       "\t1 & 2 & Bugs Bunny's Third Movie: 1001 Rabbit Tales & Le 1001 favole di Bugs Bunny & $\\dots$ \\\\\n",
       "\t2 & 3 & 18 anni tra una settimana & 18 anni tra una settimana & $\\dots$ \\\\\n",
       "\t3 & 17 & Ride a Wild Pony & A cavallo di un pony selvaggio & $\\dots$ \\\\\n",
       "\t4 & 18 & Diner & A cena con gli amici & $\\dots$ \\\\\n",
       "\t5 & 20 & A che servono questi quattrini? & A che servono questi quattrini? & $\\dots$ \\\\\n",
       "\\end{tabular}\n"
      ],
      "text/plain": [
       "5×14 DataFrame. Omitted printing of 12 columns\n",
       "│ Row │ filmtv_id │ titolo_originale                            │\n",
       "│     │ \u001b[90mInt64\u001b[39m     │ \u001b[90mString\u001b[39m                                      │\n",
       "├─────┼───────────┼─────────────────────────────────────────────┤\n",
       "│ 1   │ 2         │ Bugs Bunny's Third Movie: 1001 Rabbit Tales │\n",
       "│ 2   │ 3         │ 18 anni tra una settimana                   │\n",
       "│ 3   │ 17        │ Ride a Wild Pony                            │\n",
       "│ 4   │ 18        │ Diner                                       │\n",
       "│ 5   │ 20        │ A che servono questi quattrini?             │"
      ]
     },
     "execution_count": 4,
     "metadata": {},
     "output_type": "execute_result"
    }
   ],
   "source": [
    "movies = DataFrame(CSV.File(\"movies.csv\"))\n",
    "first(movies, 5)"
   ]
  },
  {
   "cell_type": "code",
   "execution_count": 5,
   "metadata": {},
   "outputs": [
    {
     "data": {
      "text/plain": [
       "14-element Array{Symbol,1}:\n",
       " :filmtv_id       \n",
       " :titolo_originale\n",
       " :titolo_italiano \n",
       " :anno            \n",
       " :genere          \n",
       " :durata          \n",
       " :paese           \n",
       " :registi         \n",
       " :attori          \n",
       " :voto_medio      \n",
       " :voti            \n",
       " :descrizione     \n",
       " :note            \n",
       " :miglior_commento"
      ]
     },
     "execution_count": 5,
     "metadata": {},
     "output_type": "execute_result"
    }
   ],
   "source": [
    "names(movies)"
   ]
  },
  {
   "cell_type": "code",
   "execution_count": 6,
   "metadata": {},
   "outputs": [
    {
     "data": {
      "text/plain": [
       "14-element Array{Type,1}:\n",
       " Int64                 \n",
       " String                \n",
       " String                \n",
       " Union{Missing, Int64} \n",
       " Union{Missing, String}\n",
       " Int64                 \n",
       " Union{Missing, String}\n",
       " Union{Missing, String}\n",
       " Union{Missing, String}\n",
       " Float64               \n",
       " Int64                 \n",
       " Union{Missing, String}\n",
       " Union{Missing, String}\n",
       " Union{Missing, String}"
      ]
     },
     "execution_count": 6,
     "metadata": {},
     "output_type": "execute_result"
    }
   ],
   "source": [
    "eltype.(eachcol(movies))"
   ]
  },
  {
   "cell_type": "code",
   "execution_count": 7,
   "metadata": {},
   "outputs": [
    {
     "data": {
      "text/plain": [
       "(53497, 14)"
      ]
     },
     "execution_count": 7,
     "metadata": {},
     "output_type": "execute_result"
    }
   ],
   "source": [
    "size(movies)"
   ]
  },
  {
   "cell_type": "code",
   "execution_count": 14,
   "metadata": {},
   "outputs": [
    {
     "data": {
      "text/html": [
       "<table class=\"data-frame\"><thead><tr><th></th><th>id</th><th>titulo</th><th>null</th></tr><tr><th></th><th>Int64</th><th>String</th><th>String</th></tr></thead><tbody><p>53,497 rows × 14 columns (omitted printing of 11 columns)</p><tr><th>1</th><td>2</td><td>Bugs Bunny's Third Movie: 1001 Rabbit Tales</td><td>Le 1001 favole di Bugs Bunny</td></tr><tr><th>2</th><td>3</td><td>18 anni tra una settimana</td><td>18 anni tra una settimana</td></tr><tr><th>3</th><td>17</td><td>Ride a Wild Pony</td><td>A cavallo di un pony selvaggio</td></tr><tr><th>4</th><td>18</td><td>Diner</td><td>A cena con gli amici</td></tr><tr><th>5</th><td>20</td><td>A che servono questi quattrini?</td><td>A che servono questi quattrini?</td></tr><tr><th>6</th><td>21</td><td>The Uranian Conspiracy</td><td>A chi tocca, tocca...!</td></tr><tr><th>7</th><td>22</td><td>A ciascuno il suo</td><td>A ciascuno il suo</td></tr><tr><th>8</th><td>23</td><td>Dead-Bang</td><td>Dead Bang - A colpo sicuro</td></tr><tr><th>9</th><td>24</td><td>A... come assassino</td><td>A... come assassino</td></tr><tr><th>10</th><td>26</td><td>At Close Range</td><td>A distanza ravvicinata</td></tr><tr><th>11</th><td>30</td><td>A Ghentar si muore facile</td><td>A Ghentar si muore facile</td></tr><tr><th>12</th><td>31</td><td>Does This Mean We are Married?</td><td>A letto col marito?</td></tr><tr><th>13</th><td>32</td><td>Sleeping with the Enemy</td><td>A letto con il nemico</td></tr><tr><th>14</th><td>33</td><td>Love Kills</td><td>A letto con l'assassino</td></tr><tr><th>15</th><td>34</td><td>In Bed With Madonna</td><td>A letto con Madonna</td></tr><tr><th>16</th><td>35</td><td>Make Mine Mink</td><td>A me il visone</td></tr><tr><th>17</th><td>36</td><td>Bowery at Midnight</td><td>A mezzanotte corre il terrore</td></tr><tr><th>18</th><td>37</td><td>A mezzanotte va la ronda del piacere</td><td>A mezzanotte va la ronda del piacere</td></tr><tr><th>19</th><td>38</td><td>Mr. Majestyk</td><td>A muso duro</td></tr><tr><th>20</th><td>39</td><td>Crazy People</td><td>A New York qualcuno è impazzito</td></tr><tr><th>21</th><td>41</td><td>Rouge baiser</td><td>A Parigi con amore</td></tr><tr><th>22</th><td>42</td><td>Eldorádó</td><td>A peso d'oro</td></tr><tr><th>23</th><td>43</td><td>À pied, à cheval, en voiture</td><td>A piedi, a cavallo, in automobile</td></tr><tr><th>24</th><td>44</td><td>Main pleine</td><td>A piene mani</td></tr><tr><th>25</th><td>45</td><td>Warning Sign</td><td>A pochi secondi dalla fine</td></tr><tr><th>26</th><td>46</td><td>Prague</td><td>A Praga</td></tr><tr><th>27</th><td>47</td><td>About Last Night</td><td>A proposito della notte scorsa...</td></tr><tr><th>28</th><td>49</td><td>Fail-Safe</td><td>A prova di errore</td></tr><tr><th>29</th><td>50</td><td>Free Fighter</td><td>A pugni nudi - La rivincita</td></tr><tr><th>30</th><td>51</td><td>Some Like It Hot</td><td>A qualcuno piace caldo</td></tr><tr><th>&vellip;</th><td>&vellip;</td><td>&vellip;</td><td>&vellip;</td></tr></tbody></table>"
      ],
      "text/latex": [
       "\\begin{tabular}{r|cccc}\n",
       "\t& id & titulo & null & \\\\\n",
       "\t\\hline\n",
       "\t& Int64 & String & String & \\\\\n",
       "\t\\hline\n",
       "\t1 & 2 & Bugs Bunny's Third Movie: 1001 Rabbit Tales & Le 1001 favole di Bugs Bunny & $\\dots$ \\\\\n",
       "\t2 & 3 & 18 anni tra una settimana & 18 anni tra una settimana & $\\dots$ \\\\\n",
       "\t3 & 17 & Ride a Wild Pony & A cavallo di un pony selvaggio & $\\dots$ \\\\\n",
       "\t4 & 18 & Diner & A cena con gli amici & $\\dots$ \\\\\n",
       "\t5 & 20 & A che servono questi quattrini? & A che servono questi quattrini? & $\\dots$ \\\\\n",
       "\t6 & 21 & The Uranian Conspiracy & A chi tocca, tocca...! & $\\dots$ \\\\\n",
       "\t7 & 22 & A ciascuno il suo & A ciascuno il suo & $\\dots$ \\\\\n",
       "\t8 & 23 & Dead-Bang & Dead Bang - A colpo sicuro & $\\dots$ \\\\\n",
       "\t9 & 24 & A... come assassino & A... come assassino & $\\dots$ \\\\\n",
       "\t10 & 26 & At Close Range & A distanza ravvicinata & $\\dots$ \\\\\n",
       "\t11 & 30 & A Ghentar si muore facile & A Ghentar si muore facile & $\\dots$ \\\\\n",
       "\t12 & 31 & Does This Mean We are Married? & A letto col marito? & $\\dots$ \\\\\n",
       "\t13 & 32 & Sleeping with the Enemy & A letto con il nemico & $\\dots$ \\\\\n",
       "\t14 & 33 & Love Kills & A letto con l'assassino & $\\dots$ \\\\\n",
       "\t15 & 34 & In Bed With Madonna & A letto con Madonna & $\\dots$ \\\\\n",
       "\t16 & 35 & Make Mine Mink & A me il visone & $\\dots$ \\\\\n",
       "\t17 & 36 & Bowery at Midnight & A mezzanotte corre il terrore & $\\dots$ \\\\\n",
       "\t18 & 37 & A mezzanotte va la ronda del piacere & A mezzanotte va la ronda del piacere & $\\dots$ \\\\\n",
       "\t19 & 38 & Mr. Majestyk & A muso duro & $\\dots$ \\\\\n",
       "\t20 & 39 & Crazy People & A New York qualcuno è impazzito & $\\dots$ \\\\\n",
       "\t21 & 41 & Rouge baiser & A Parigi con amore & $\\dots$ \\\\\n",
       "\t22 & 42 & Eldorádó & A peso d'oro & $\\dots$ \\\\\n",
       "\t23 & 43 & À pied, à cheval, en voiture & A piedi, a cavallo, in automobile & $\\dots$ \\\\\n",
       "\t24 & 44 & Main pleine & A piene mani & $\\dots$ \\\\\n",
       "\t25 & 45 & Warning Sign & A pochi secondi dalla fine & $\\dots$ \\\\\n",
       "\t26 & 46 & Prague & A Praga & $\\dots$ \\\\\n",
       "\t27 & 47 & About Last Night & A proposito della notte scorsa... & $\\dots$ \\\\\n",
       "\t28 & 49 & Fail-Safe & A prova di errore & $\\dots$ \\\\\n",
       "\t29 & 50 & Free Fighter & A pugni nudi - La rivincita & $\\dots$ \\\\\n",
       "\t30 & 51 & Some Like It Hot & A qualcuno piace caldo & $\\dots$ \\\\\n",
       "\t$\\dots$ & $\\dots$ & $\\dots$ & $\\dots$ &  \\\\\n",
       "\\end{tabular}\n"
      ],
      "text/plain": [
       "53497×14 DataFrame. Omitted printing of 12 columns\n",
       "│ Row   │ id     │ titulo                                      │\n",
       "│       │ \u001b[90mInt64\u001b[39m  │ \u001b[90mString\u001b[39m                                      │\n",
       "├───────┼────────┼─────────────────────────────────────────────┤\n",
       "│ 1     │ 2      │ Bugs Bunny's Third Movie: 1001 Rabbit Tales │\n",
       "│ 2     │ 3      │ 18 anni tra una settimana                   │\n",
       "│ 3     │ 17     │ Ride a Wild Pony                            │\n",
       "│ 4     │ 18     │ Diner                                       │\n",
       "│ 5     │ 20     │ A che servono questi quattrini?             │\n",
       "│ 6     │ 21     │ The Uranian Conspiracy                      │\n",
       "│ 7     │ 22     │ A ciascuno il suo                           │\n",
       "│ 8     │ 23     │ Dead-Bang                                   │\n",
       "│ 9     │ 24     │ A... come assassino                         │\n",
       "│ 10    │ 26     │ At Close Range                              │\n",
       "⋮\n",
       "│ 53487 │ 179835 │ Famosa                                      │\n",
       "│ 53488 │ 179849 │ Hai kikku enjerusu                          │\n",
       "│ 53489 │ 179851 │ Clown                                       │\n",
       "│ 53490 │ 179853 │ Big Top Evil                                │\n",
       "│ 53491 │ 179861 │ The Wrong Man                               │\n",
       "│ 53492 │ 179863 │ At Home in Mitford                          │\n",
       "│ 53493 │ 179865 │ Psycho Brother In-Law                       │\n",
       "│ 53494 │ 179885 │ Il berretto a sonagli                       │\n",
       "│ 53495 │ 179887 │ Put lubenica                                │\n",
       "│ 53496 │ 179919 │ Più forte sorelle                           │\n",
       "│ 53497 │ 179937 │ Henry Danger: Henry & the Bad Girl          │"
      ]
     },
     "execution_count": 14,
     "metadata": {},
     "output_type": "execute_result"
    }
   ],
   "source": [
    "rename!(movies, :filmtv_id => :id,       \n",
    "               :titolo_originale => :titulo,\n",
    "               :titolo_italiano  => :null,\n",
    "               :anno    =>          :ano,\n",
    "               :genere     =>       :genero,\n",
    "               :durata     =>       :duracao,\n",
    "               :paese       =>      :pais,\n",
    "               :registi    =>       :diretor,\n",
    "               :attori    =>        :atores,\n",
    "               :voto_medio     =>   :voto_medio,\n",
    "               :voti          =>    :voto,\n",
    "               :descrizione   =>    :discircao,\n",
    "               :note           =>   :nota,\n",
    "               :miglior_commento => :m_comentario)"
   ]
  },
  {
   "cell_type": "code",
   "execution_count": 19,
   "metadata": {},
   "outputs": [
    {
     "data": {
      "text/plain": [
       "6-element Array{Symbol,1}:\n",
       " :titulo    \n",
       " :ano       \n",
       " :genero    \n",
       " :duracao   \n",
       " :voto_medio\n",
       " :voto      "
      ]
     },
     "execution_count": 19,
     "metadata": {},
     "output_type": "execute_result"
    }
   ],
   "source": [
    "names(movies)"
   ]
  },
  {
   "cell_type": "code",
   "execution_count": 18,
   "metadata": {},
   "outputs": [
    {
     "data": {
      "text/html": [
       "<table class=\"data-frame\"><thead><tr><th></th><th>titulo</th><th>ano</th><th>genero</th><th>duracao</th><th>voto_medio</th></tr><tr><th></th><th>String</th><th>Int64⍰</th><th>String⍰</th><th>Int64</th><th>Float64</th></tr></thead><tbody><p>53,497 rows × 6 columns (omitted printing of 1 columns)</p><tr><th>1</th><td>Bugs Bunny's Third Movie: 1001 Rabbit Tales</td><td>1982</td><td>Animazione</td><td>76</td><td>7.7</td></tr><tr><th>2</th><td>18 anni tra una settimana</td><td>1991</td><td>Drammatico</td><td>98</td><td>7.0</td></tr><tr><th>3</th><td>Ride a Wild Pony</td><td>1976</td><td>Sentimentale</td><td>91</td><td>5.5</td></tr><tr><th>4</th><td>Diner</td><td>1982</td><td>Commedia</td><td>95</td><td>7.2</td></tr><tr><th>5</th><td>A che servono questi quattrini?</td><td>1942</td><td>Commedia</td><td>85</td><td>5.8</td></tr><tr><th>6</th><td>The Uranian Conspiracy</td><td>1978</td><td>Spionaggio</td><td>117</td><td>5.0</td></tr><tr><th>7</th><td>A ciascuno il suo</td><td>1967</td><td>Drammatico</td><td>93</td><td>7.8</td></tr><tr><th>8</th><td>Dead-Bang</td><td>1989</td><td>Poliziesco</td><td>109</td><td>6.0</td></tr><tr><th>9</th><td>A... come assassino</td><td>1966</td><td>Thriller</td><td>80</td><td>6.5</td></tr><tr><th>10</th><td>At Close Range</td><td>1986</td><td>Drammatico</td><td>115</td><td>7.5</td></tr><tr><th>11</th><td>A Ghentar si muore facile</td><td>1968</td><td>Avventura</td><td>101</td><td>5.5</td></tr><tr><th>12</th><td>Does This Mean We are Married?</td><td>1990</td><td>Commedia</td><td>90</td><td>4.0</td></tr><tr><th>13</th><td>Sleeping with the Enemy</td><td>1990</td><td>Drammatico</td><td>96</td><td>5.1</td></tr><tr><th>14</th><td>Love Kills</td><td>1991</td><td>Thriller</td><td>100</td><td>8.0</td></tr><tr><th>15</th><td>In Bed With Madonna</td><td>1990</td><td>Documentario</td><td>111</td><td>5.1</td></tr><tr><th>16</th><td>Make Mine Mink</td><td>1960</td><td>Commedia</td><td>100</td><td>8.0</td></tr><tr><th>17</th><td>Bowery at Midnight</td><td>1942</td><td>Horror</td><td>62</td><td>5.8</td></tr><tr><th>18</th><td>A mezzanotte va la ronda del piacere</td><td>1975</td><td>Commedia</td><td>100</td><td>5.9</td></tr><tr><th>19</th><td>Mr. Majestyk</td><td>1974</td><td>Azione</td><td>105</td><td>6.0</td></tr><tr><th>20</th><td>Crazy People</td><td>1990</td><td>Commedia</td><td>92</td><td>6.0</td></tr><tr><th>21</th><td>Rouge baiser</td><td>1985</td><td>Drammatico</td><td>110</td><td>4.0</td></tr><tr><th>22</th><td>Eldorádó</td><td>1988</td><td>Drammatico</td><td>110</td><td>8.0</td></tr><tr><th>23</th><td>À pied, à cheval, en voiture</td><td>1957</td><td>Commedia</td><td>100</td><td>6.0</td></tr><tr><th>24</th><td>Main pleine</td><td>1989</td><td>Thriller</td><td>89</td><td>6.0</td></tr><tr><th>25</th><td>Warning Sign</td><td>1985</td><td>Catastrofico</td><td>99</td><td>4.5</td></tr><tr><th>26</th><td>Prague</td><td>1992</td><td>Drammatico</td><td>88</td><td>6.0</td></tr><tr><th>27</th><td>About Last Night</td><td>1986</td><td>Commedia</td><td>113</td><td>5.8</td></tr><tr><th>28</th><td>Fail-Safe</td><td>1964</td><td>Drammatico</td><td>110</td><td>8.3</td></tr><tr><th>29</th><td>Free Fighter</td><td>1990</td><td>Azione</td><td>88</td><td>7.0</td></tr><tr><th>30</th><td>Some Like It Hot</td><td>1959</td><td>Commedia</td><td>120</td><td>9.2</td></tr><tr><th>&vellip;</th><td>&vellip;</td><td>&vellip;</td><td>&vellip;</td><td>&vellip;</td><td>&vellip;</td></tr></tbody></table>"
      ],
      "text/latex": [
       "\\begin{tabular}{r|cccccc}\n",
       "\t& titulo & ano & genero & duracao & voto\\_medio & \\\\\n",
       "\t\\hline\n",
       "\t& String & Int64⍰ & String⍰ & Int64 & Float64 & \\\\\n",
       "\t\\hline\n",
       "\t1 & Bugs Bunny's Third Movie: 1001 Rabbit Tales & 1982 & Animazione & 76 & 7.7 & $\\dots$ \\\\\n",
       "\t2 & 18 anni tra una settimana & 1991 & Drammatico & 98 & 7.0 & $\\dots$ \\\\\n",
       "\t3 & Ride a Wild Pony & 1976 & Sentimentale & 91 & 5.5 & $\\dots$ \\\\\n",
       "\t4 & Diner & 1982 & Commedia & 95 & 7.2 & $\\dots$ \\\\\n",
       "\t5 & A che servono questi quattrini? & 1942 & Commedia & 85 & 5.8 & $\\dots$ \\\\\n",
       "\t6 & The Uranian Conspiracy & 1978 & Spionaggio & 117 & 5.0 & $\\dots$ \\\\\n",
       "\t7 & A ciascuno il suo & 1967 & Drammatico & 93 & 7.8 & $\\dots$ \\\\\n",
       "\t8 & Dead-Bang & 1989 & Poliziesco & 109 & 6.0 & $\\dots$ \\\\\n",
       "\t9 & A... come assassino & 1966 & Thriller & 80 & 6.5 & $\\dots$ \\\\\n",
       "\t10 & At Close Range & 1986 & Drammatico & 115 & 7.5 & $\\dots$ \\\\\n",
       "\t11 & A Ghentar si muore facile & 1968 & Avventura & 101 & 5.5 & $\\dots$ \\\\\n",
       "\t12 & Does This Mean We are Married? & 1990 & Commedia & 90 & 4.0 & $\\dots$ \\\\\n",
       "\t13 & Sleeping with the Enemy & 1990 & Drammatico & 96 & 5.1 & $\\dots$ \\\\\n",
       "\t14 & Love Kills & 1991 & Thriller & 100 & 8.0 & $\\dots$ \\\\\n",
       "\t15 & In Bed With Madonna & 1990 & Documentario & 111 & 5.1 & $\\dots$ \\\\\n",
       "\t16 & Make Mine Mink & 1960 & Commedia & 100 & 8.0 & $\\dots$ \\\\\n",
       "\t17 & Bowery at Midnight & 1942 & Horror & 62 & 5.8 & $\\dots$ \\\\\n",
       "\t18 & A mezzanotte va la ronda del piacere & 1975 & Commedia & 100 & 5.9 & $\\dots$ \\\\\n",
       "\t19 & Mr. Majestyk & 1974 & Azione & 105 & 6.0 & $\\dots$ \\\\\n",
       "\t20 & Crazy People & 1990 & Commedia & 92 & 6.0 & $\\dots$ \\\\\n",
       "\t21 & Rouge baiser & 1985 & Drammatico & 110 & 4.0 & $\\dots$ \\\\\n",
       "\t22 & Eldorádó & 1988 & Drammatico & 110 & 8.0 & $\\dots$ \\\\\n",
       "\t23 & À pied, à cheval, en voiture & 1957 & Commedia & 100 & 6.0 & $\\dots$ \\\\\n",
       "\t24 & Main pleine & 1989 & Thriller & 89 & 6.0 & $\\dots$ \\\\\n",
       "\t25 & Warning Sign & 1985 & Catastrofico & 99 & 4.5 & $\\dots$ \\\\\n",
       "\t26 & Prague & 1992 & Drammatico & 88 & 6.0 & $\\dots$ \\\\\n",
       "\t27 & About Last Night & 1986 & Commedia & 113 & 5.8 & $\\dots$ \\\\\n",
       "\t28 & Fail-Safe & 1964 & Drammatico & 110 & 8.3 & $\\dots$ \\\\\n",
       "\t29 & Free Fighter & 1990 & Azione & 88 & 7.0 & $\\dots$ \\\\\n",
       "\t30 & Some Like It Hot & 1959 & Commedia & 120 & 9.2 & $\\dots$ \\\\\n",
       "\t$\\dots$ & $\\dots$ & $\\dots$ & $\\dots$ & $\\dots$ & $\\dots$ &  \\\\\n",
       "\\end{tabular}\n"
      ],
      "text/plain": [
       "53497×6 DataFrame. Omitted printing of 3 columns\n",
       "│ Row   │ titulo                                      │ ano    │ genero       │\n",
       "│       │ \u001b[90mString\u001b[39m                                      │ \u001b[90mInt64⍰\u001b[39m │ \u001b[90mString⍰\u001b[39m      │\n",
       "├───────┼─────────────────────────────────────────────┼────────┼──────────────┤\n",
       "│ 1     │ Bugs Bunny's Third Movie: 1001 Rabbit Tales │ 1982   │ Animazione   │\n",
       "│ 2     │ 18 anni tra una settimana                   │ 1991   │ Drammatico   │\n",
       "│ 3     │ Ride a Wild Pony                            │ 1976   │ Sentimentale │\n",
       "│ 4     │ Diner                                       │ 1982   │ Commedia     │\n",
       "│ 5     │ A che servono questi quattrini?             │ 1942   │ Commedia     │\n",
       "│ 6     │ The Uranian Conspiracy                      │ 1978   │ Spionaggio   │\n",
       "│ 7     │ A ciascuno il suo                           │ 1967   │ Drammatico   │\n",
       "│ 8     │ Dead-Bang                                   │ 1989   │ Poliziesco   │\n",
       "│ 9     │ A... come assassino                         │ 1966   │ Thriller     │\n",
       "│ 10    │ At Close Range                              │ 1986   │ Drammatico   │\n",
       "⋮\n",
       "│ 53487 │ Famosa                                      │ 2019   │ Drammatico   │\n",
       "│ 53488 │ Hai kikku enjerusu                          │ 2014   │ Azione       │\n",
       "│ 53489 │ Clown                                       │ 2019   │ Horror       │\n",
       "│ 53490 │ Big Top Evil                                │ 2019   │ Horror       │\n",
       "│ 53491 │ The Wrong Man                               │ 2017   │ Thriller     │\n",
       "│ 53492 │ At Home in Mitford                          │ 2017   │ Sentimentale │\n",
       "│ 53493 │ Psycho Brother In-Law                       │ 2017   │ Thriller     │\n",
       "│ 53494 │ Il berretto a sonagli                       │ 1981   │ Commedia     │\n",
       "│ 53495 │ Put lubenica                                │ 2006   │ Drammatico   │\n",
       "│ 53496 │ Più forte sorelle                           │ 1973   │ Western      │\n",
       "│ 53497 │ Henry Danger: Henry & the Bad Girl          │ 2015   │ Commedia     │"
      ]
     },
     "execution_count": 18,
     "metadata": {},
     "output_type": "execute_result"
    }
   ],
   "source": [
    "select!(movies, Not([:id              \n",
    "                     :null             \n",
    "                     :pais        \n",
    "                     :diretor     \n",
    "                     :atores             \n",
    "                     :discircao   \n",
    "                     :nota        \n",
    "                     :m_comentario\n",
    "                     ]))"
   ]
  },
  {
   "cell_type": "code",
   "execution_count": 20,
   "metadata": {},
   "outputs": [
    {
     "data": {
      "text/plain": [
       "98.47202646877395"
      ]
     },
     "execution_count": 20,
     "metadata": {},
     "output_type": "execute_result"
    }
   ],
   "source": [
    "mean(movies.duracao)"
   ]
  },
  {
   "cell_type": "code",
   "execution_count": 22,
   "metadata": {},
   "outputs": [
    {
     "data": {
      "text/plain": [
       "95.0"
      ]
     },
     "execution_count": 22,
     "metadata": {},
     "output_type": "execute_result"
    }
   ],
   "source": [
    "median(movies.duracao)"
   ]
  },
  {
   "cell_type": "code",
   "execution_count": 23,
   "metadata": {},
   "outputs": [
    {
     "data": {
      "text/plain": [
       "5267958"
      ]
     },
     "execution_count": 23,
     "metadata": {},
     "output_type": "execute_result"
    }
   ],
   "source": [
    "sum(movies.duracao)"
   ]
  },
  {
   "cell_type": "code",
   "execution_count": 25,
   "metadata": {},
   "outputs": [
    {
     "data": {
      "text/html": [
       "<table class=\"data-frame\"><thead><tr><th></th><th>titulo</th><th>ano</th><th>genero</th><th>duracao</th></tr><tr><th></th><th>String</th><th>Int64⍰</th><th>String⍰</th><th>Int64</th></tr></thead><tbody><p>53,497 rows × 6 columns (omitted printing of 2 columns)</p><tr><th>1</th><td>L'arroseur arrosé</td><td>1897</td><td>missing</td><td>49</td></tr><tr><th>2</th><td>Le voleur invisible</td><td>1909</td><td>Cortometraggio</td><td>432</td></tr><tr><th>3</th><td>L'inferno</td><td>1911</td><td>Drammatico</td><td>68</td></tr><tr><th>4</th><td>Robinet aviatore</td><td>1911</td><td>Cortometraggio</td><td>536</td></tr><tr><th>5</th><td>Les amours de la reine Élisabeth</td><td>1912</td><td>Drammatico</td><td>40</td></tr><tr><th>6</th><td>Quo vadis?</td><td>1912</td><td>Drammatico</td><td>120</td></tr><tr><th>7</th><td>From the Manger to the Cross; or, Jesus of Nazareth</td><td>1912</td><td>Biblico</td><td>71</td></tr><tr><th>8</th><td>Fantômas - À l'ombre de la guillotine</td><td>1913</td><td>Poliziesco</td><td>54</td></tr><tr><th>9</th><td>Juve contre Fantômas</td><td>1913</td><td>Poliziesco</td><td>45</td></tr><tr><th>10</th><td>La mort qui tue</td><td>1913</td><td>Poliziesco</td><td>90</td></tr><tr><th>11</th><td>Ma l'amore mio non muore</td><td>1913</td><td>Drammatico</td><td>120</td></tr><tr><th>12</th><td>Ingeborg Holm</td><td>1913</td><td>Drammatico</td><td>96</td></tr><tr><th>13</th><td>Atlantis</td><td>1913</td><td>Drammatico</td><td>121</td></tr><tr><th>14</th><td>Ivanhoe</td><td>1913</td><td>Avventura</td><td>48</td></tr><tr><th>15</th><td>Noch pered Rozhdestvom</td><td>1913</td><td>Fantasy</td><td>41</td></tr><tr><th>16</th><td>Cabiria</td><td>1914</td><td>Drammatico</td><td>114</td></tr><tr><th>17</th><td>Fantômas contre Fantômas</td><td>1914</td><td>Poliziesco</td><td>59</td></tr><tr><th>18</th><td>Le faux magistrat</td><td>1914</td><td>Poliziesco</td><td>70</td></tr><tr><th>19</th><td>Judith of Betulia</td><td>1914</td><td>Drammatico</td><td>46</td></tr><tr><th>20</th><td>Tillie's Punctured Romance</td><td>1914</td><td>Commedia</td><td>82</td></tr><tr><th>21</th><td>Det hemmelighedsfulde X</td><td>1914</td><td>Drammatico</td><td>84</td></tr><tr><th>22</th><td>Sangue blu</td><td>1914</td><td>Drammatico</td><td>55</td></tr><tr><th>23</th><td>The Birth of a Nation</td><td>1915</td><td>Storico</td><td>165</td></tr><tr><th>24</th><td>The Cheat</td><td>1915</td><td>Drammatico</td><td>59</td></tr><tr><th>25</th><td>Rapsodia satanica</td><td>1915</td><td>Drammatico</td><td>40</td></tr><tr><th>26</th><td>Les Vampires</td><td>1915</td><td>Avventura</td><td>57</td></tr><tr><th>27</th><td>Les Vampires</td><td>1915</td><td>Avventura</td><td>86</td></tr><tr><th>28</th><td>Les Vampires</td><td>1915</td><td>Avventura</td><td>113</td></tr><tr><th>29</th><td>Les Vampires</td><td>1915</td><td>Avventura</td><td>124</td></tr><tr><th>30</th><td>Assunta Spina</td><td>1915</td><td>Drammatico</td><td>50</td></tr><tr><th>&vellip;</th><td>&vellip;</td><td>&vellip;</td><td>&vellip;</td><td>&vellip;</td></tr></tbody></table>"
      ],
      "text/latex": [
       "\\begin{tabular}{r|ccccc}\n",
       "\t& titulo & ano & genero & duracao & \\\\\n",
       "\t\\hline\n",
       "\t& String & Int64⍰ & String⍰ & Int64 & \\\\\n",
       "\t\\hline\n",
       "\t1 & L'arroseur arrosé & 1897 &  & 49 & $\\dots$ \\\\\n",
       "\t2 & Le voleur invisible & 1909 & Cortometraggio & 432 & $\\dots$ \\\\\n",
       "\t3 & L'inferno & 1911 & Drammatico & 68 & $\\dots$ \\\\\n",
       "\t4 & Robinet aviatore & 1911 & Cortometraggio & 536 & $\\dots$ \\\\\n",
       "\t5 & Les amours de la reine Élisabeth & 1912 & Drammatico & 40 & $\\dots$ \\\\\n",
       "\t6 & Quo vadis? & 1912 & Drammatico & 120 & $\\dots$ \\\\\n",
       "\t7 & From the Manger to the Cross; or, Jesus of Nazareth & 1912 & Biblico & 71 & $\\dots$ \\\\\n",
       "\t8 & Fantômas - À l'ombre de la guillotine & 1913 & Poliziesco & 54 & $\\dots$ \\\\\n",
       "\t9 & Juve contre Fantômas & 1913 & Poliziesco & 45 & $\\dots$ \\\\\n",
       "\t10 & La mort qui tue & 1913 & Poliziesco & 90 & $\\dots$ \\\\\n",
       "\t11 & Ma l'amore mio non muore & 1913 & Drammatico & 120 & $\\dots$ \\\\\n",
       "\t12 & Ingeborg Holm & 1913 & Drammatico & 96 & $\\dots$ \\\\\n",
       "\t13 & Atlantis & 1913 & Drammatico & 121 & $\\dots$ \\\\\n",
       "\t14 & Ivanhoe & 1913 & Avventura & 48 & $\\dots$ \\\\\n",
       "\t15 & Noch pered Rozhdestvom & 1913 & Fantasy & 41 & $\\dots$ \\\\\n",
       "\t16 & Cabiria & 1914 & Drammatico & 114 & $\\dots$ \\\\\n",
       "\t17 & Fantômas contre Fantômas & 1914 & Poliziesco & 59 & $\\dots$ \\\\\n",
       "\t18 & Le faux magistrat & 1914 & Poliziesco & 70 & $\\dots$ \\\\\n",
       "\t19 & Judith of Betulia & 1914 & Drammatico & 46 & $\\dots$ \\\\\n",
       "\t20 & Tillie's Punctured Romance & 1914 & Commedia & 82 & $\\dots$ \\\\\n",
       "\t21 & Det hemmelighedsfulde X & 1914 & Drammatico & 84 & $\\dots$ \\\\\n",
       "\t22 & Sangue blu & 1914 & Drammatico & 55 & $\\dots$ \\\\\n",
       "\t23 & The Birth of a Nation & 1915 & Storico & 165 & $\\dots$ \\\\\n",
       "\t24 & The Cheat & 1915 & Drammatico & 59 & $\\dots$ \\\\\n",
       "\t25 & Rapsodia satanica & 1915 & Drammatico & 40 & $\\dots$ \\\\\n",
       "\t26 & Les Vampires & 1915 & Avventura & 57 & $\\dots$ \\\\\n",
       "\t27 & Les Vampires & 1915 & Avventura & 86 & $\\dots$ \\\\\n",
       "\t28 & Les Vampires & 1915 & Avventura & 113 & $\\dots$ \\\\\n",
       "\t29 & Les Vampires & 1915 & Avventura & 124 & $\\dots$ \\\\\n",
       "\t30 & Assunta Spina & 1915 & Drammatico & 50 & $\\dots$ \\\\\n",
       "\t$\\dots$ & $\\dots$ & $\\dots$ & $\\dots$ & $\\dots$ &  \\\\\n",
       "\\end{tabular}\n"
      ],
      "text/plain": [
       "53497×6 DataFrame. Omitted printing of 4 columns\n",
       "│ Row   │ titulo                                              │ ano     │\n",
       "│       │ \u001b[90mString\u001b[39m                                              │ \u001b[90mInt64⍰\u001b[39m  │\n",
       "├───────┼─────────────────────────────────────────────────────┼─────────┤\n",
       "│ 1     │ L'arroseur arrosé                                   │ 1897    │\n",
       "│ 2     │ Le voleur invisible                                 │ 1909    │\n",
       "│ 3     │ L'inferno                                           │ 1911    │\n",
       "│ 4     │ Robinet aviatore                                    │ 1911    │\n",
       "│ 5     │ Les amours de la reine Élisabeth                    │ 1912    │\n",
       "│ 6     │ Quo vadis?                                          │ 1912    │\n",
       "│ 7     │ From the Manger to the Cross; or, Jesus of Nazareth │ 1912    │\n",
       "│ 8     │ Fantômas - À l'ombre de la guillotine               │ 1913    │\n",
       "│ 9     │ Juve contre Fantômas                                │ 1913    │\n",
       "│ 10    │ La mort qui tue                                     │ 1913    │\n",
       "⋮\n",
       "│ 53487 │ Bucarest, stazione Nord                             │ \u001b[90mmissing\u001b[39m │\n",
       "│ 53488 │ Il falcone                                          │ \u001b[90mmissing\u001b[39m │\n",
       "│ 53489 │ Firenze d'allora                                    │ \u001b[90mmissing\u001b[39m │\n",
       "│ 53490 │ Der Locke Spitzel                                   │ \u001b[90mmissing\u001b[39m │\n",
       "│ 53491 │ Un drago, un orso e altri animali                   │ \u001b[90mmissing\u001b[39m │\n",
       "│ 53492 │ Thangam - La bambina del Tamil                      │ \u001b[90mmissing\u001b[39m │\n",
       "│ 53493 │ Sitting Ducks                                       │ \u001b[90mmissing\u001b[39m │\n",
       "│ 53494 │ Le meravigliose avventure di Simbad il marinaio     │ \u001b[90mmissing\u001b[39m │\n",
       "│ 53495 │ Inuyasha the Movie                                  │ \u001b[90mmissing\u001b[39m │\n",
       "│ 53496 │ L'amante del vampiro                                │ \u001b[90mmissing\u001b[39m │\n",
       "│ 53497 │ Kaput lager - Gli ultimi giorni delle SS            │ \u001b[90mmissing\u001b[39m │"
      ]
     },
     "execution_count": 25,
     "metadata": {},
     "output_type": "execute_result"
    }
   ],
   "source": [
    "sort!(movies, :ano)"
   ]
  },
  {
   "cell_type": "code",
   "execution_count": 26,
   "metadata": {},
   "outputs": [
    {
     "data": {
      "text/html": [
       "<table class=\"data-frame\"><thead><tr><th></th><th>titulo</th><th>ano</th><th>genero</th><th>duracao</th></tr><tr><th></th><th>String</th><th>Int64</th><th>String</th><th>Int64</th></tr></thead><tbody><p>53,282 rows × 6 columns (omitted printing of 2 columns)</p><tr><th>1</th><td>Le voleur invisible</td><td>1909</td><td>Cortometraggio</td><td>432</td></tr><tr><th>2</th><td>L'inferno</td><td>1911</td><td>Drammatico</td><td>68</td></tr><tr><th>3</th><td>Robinet aviatore</td><td>1911</td><td>Cortometraggio</td><td>536</td></tr><tr><th>4</th><td>Les amours de la reine Élisabeth</td><td>1912</td><td>Drammatico</td><td>40</td></tr><tr><th>5</th><td>Quo vadis?</td><td>1912</td><td>Drammatico</td><td>120</td></tr><tr><th>6</th><td>From the Manger to the Cross; or, Jesus of Nazareth</td><td>1912</td><td>Biblico</td><td>71</td></tr><tr><th>7</th><td>Fantômas - À l'ombre de la guillotine</td><td>1913</td><td>Poliziesco</td><td>54</td></tr><tr><th>8</th><td>Juve contre Fantômas</td><td>1913</td><td>Poliziesco</td><td>45</td></tr><tr><th>9</th><td>La mort qui tue</td><td>1913</td><td>Poliziesco</td><td>90</td></tr><tr><th>10</th><td>Ma l'amore mio non muore</td><td>1913</td><td>Drammatico</td><td>120</td></tr><tr><th>11</th><td>Ingeborg Holm</td><td>1913</td><td>Drammatico</td><td>96</td></tr><tr><th>12</th><td>Atlantis</td><td>1913</td><td>Drammatico</td><td>121</td></tr><tr><th>13</th><td>Ivanhoe</td><td>1913</td><td>Avventura</td><td>48</td></tr><tr><th>14</th><td>Noch pered Rozhdestvom</td><td>1913</td><td>Fantasy</td><td>41</td></tr><tr><th>15</th><td>Cabiria</td><td>1914</td><td>Drammatico</td><td>114</td></tr><tr><th>16</th><td>Fantômas contre Fantômas</td><td>1914</td><td>Poliziesco</td><td>59</td></tr><tr><th>17</th><td>Le faux magistrat</td><td>1914</td><td>Poliziesco</td><td>70</td></tr><tr><th>18</th><td>Judith of Betulia</td><td>1914</td><td>Drammatico</td><td>46</td></tr><tr><th>19</th><td>Tillie's Punctured Romance</td><td>1914</td><td>Commedia</td><td>82</td></tr><tr><th>20</th><td>Det hemmelighedsfulde X</td><td>1914</td><td>Drammatico</td><td>84</td></tr><tr><th>21</th><td>Sangue blu</td><td>1914</td><td>Drammatico</td><td>55</td></tr><tr><th>22</th><td>The Birth of a Nation</td><td>1915</td><td>Storico</td><td>165</td></tr><tr><th>23</th><td>The Cheat</td><td>1915</td><td>Drammatico</td><td>59</td></tr><tr><th>24</th><td>Rapsodia satanica</td><td>1915</td><td>Drammatico</td><td>40</td></tr><tr><th>25</th><td>Les Vampires</td><td>1915</td><td>Avventura</td><td>57</td></tr><tr><th>26</th><td>Les Vampires</td><td>1915</td><td>Avventura</td><td>86</td></tr><tr><th>27</th><td>Les Vampires</td><td>1915</td><td>Avventura</td><td>113</td></tr><tr><th>28</th><td>Les Vampires</td><td>1915</td><td>Avventura</td><td>124</td></tr><tr><th>29</th><td>Assunta Spina</td><td>1915</td><td>Drammatico</td><td>50</td></tr><tr><th>30</th><td>Hypocrites</td><td>1915</td><td>Drammatico</td><td>49</td></tr><tr><th>&vellip;</th><td>&vellip;</td><td>&vellip;</td><td>&vellip;</td><td>&vellip;</td></tr></tbody></table>"
      ],
      "text/latex": [
       "\\begin{tabular}{r|ccccc}\n",
       "\t& titulo & ano & genero & duracao & \\\\\n",
       "\t\\hline\n",
       "\t& String & Int64 & String & Int64 & \\\\\n",
       "\t\\hline\n",
       "\t1 & Le voleur invisible & 1909 & Cortometraggio & 432 & $\\dots$ \\\\\n",
       "\t2 & L'inferno & 1911 & Drammatico & 68 & $\\dots$ \\\\\n",
       "\t3 & Robinet aviatore & 1911 & Cortometraggio & 536 & $\\dots$ \\\\\n",
       "\t4 & Les amours de la reine Élisabeth & 1912 & Drammatico & 40 & $\\dots$ \\\\\n",
       "\t5 & Quo vadis? & 1912 & Drammatico & 120 & $\\dots$ \\\\\n",
       "\t6 & From the Manger to the Cross; or, Jesus of Nazareth & 1912 & Biblico & 71 & $\\dots$ \\\\\n",
       "\t7 & Fantômas - À l'ombre de la guillotine & 1913 & Poliziesco & 54 & $\\dots$ \\\\\n",
       "\t8 & Juve contre Fantômas & 1913 & Poliziesco & 45 & $\\dots$ \\\\\n",
       "\t9 & La mort qui tue & 1913 & Poliziesco & 90 & $\\dots$ \\\\\n",
       "\t10 & Ma l'amore mio non muore & 1913 & Drammatico & 120 & $\\dots$ \\\\\n",
       "\t11 & Ingeborg Holm & 1913 & Drammatico & 96 & $\\dots$ \\\\\n",
       "\t12 & Atlantis & 1913 & Drammatico & 121 & $\\dots$ \\\\\n",
       "\t13 & Ivanhoe & 1913 & Avventura & 48 & $\\dots$ \\\\\n",
       "\t14 & Noch pered Rozhdestvom & 1913 & Fantasy & 41 & $\\dots$ \\\\\n",
       "\t15 & Cabiria & 1914 & Drammatico & 114 & $\\dots$ \\\\\n",
       "\t16 & Fantômas contre Fantômas & 1914 & Poliziesco & 59 & $\\dots$ \\\\\n",
       "\t17 & Le faux magistrat & 1914 & Poliziesco & 70 & $\\dots$ \\\\\n",
       "\t18 & Judith of Betulia & 1914 & Drammatico & 46 & $\\dots$ \\\\\n",
       "\t19 & Tillie's Punctured Romance & 1914 & Commedia & 82 & $\\dots$ \\\\\n",
       "\t20 & Det hemmelighedsfulde X & 1914 & Drammatico & 84 & $\\dots$ \\\\\n",
       "\t21 & Sangue blu & 1914 & Drammatico & 55 & $\\dots$ \\\\\n",
       "\t22 & The Birth of a Nation & 1915 & Storico & 165 & $\\dots$ \\\\\n",
       "\t23 & The Cheat & 1915 & Drammatico & 59 & $\\dots$ \\\\\n",
       "\t24 & Rapsodia satanica & 1915 & Drammatico & 40 & $\\dots$ \\\\\n",
       "\t25 & Les Vampires & 1915 & Avventura & 57 & $\\dots$ \\\\\n",
       "\t26 & Les Vampires & 1915 & Avventura & 86 & $\\dots$ \\\\\n",
       "\t27 & Les Vampires & 1915 & Avventura & 113 & $\\dots$ \\\\\n",
       "\t28 & Les Vampires & 1915 & Avventura & 124 & $\\dots$ \\\\\n",
       "\t29 & Assunta Spina & 1915 & Drammatico & 50 & $\\dots$ \\\\\n",
       "\t30 & Hypocrites & 1915 & Drammatico & 49 & $\\dots$ \\\\\n",
       "\t$\\dots$ & $\\dots$ & $\\dots$ & $\\dots$ & $\\dots$ &  \\\\\n",
       "\\end{tabular}\n"
      ],
      "text/plain": [
       "53282×6 DataFrame. Omitted printing of 4 columns\n",
       "│ Row   │ titulo                                              │ ano   │\n",
       "│       │ \u001b[90mString\u001b[39m                                              │ \u001b[90mInt64\u001b[39m │\n",
       "├───────┼─────────────────────────────────────────────────────┼───────┤\n",
       "│ 1     │ Le voleur invisible                                 │ 1909  │\n",
       "│ 2     │ L'inferno                                           │ 1911  │\n",
       "│ 3     │ Robinet aviatore                                    │ 1911  │\n",
       "│ 4     │ Les amours de la reine Élisabeth                    │ 1912  │\n",
       "│ 5     │ Quo vadis?                                          │ 1912  │\n",
       "│ 6     │ From the Manger to the Cross; or, Jesus of Nazareth │ 1912  │\n",
       "│ 7     │ Fantômas - À l'ombre de la guillotine               │ 1913  │\n",
       "│ 8     │ Juve contre Fantômas                                │ 1913  │\n",
       "│ 9     │ La mort qui tue                                     │ 1913  │\n",
       "│ 10    │ Ma l'amore mio non muore                            │ 1913  │\n",
       "⋮\n",
       "│ 53272 │ Irréversible - Inversion intégrale                  │ 2019  │\n",
       "│ 53273 │ Bar Giuseppe                                        │ 2019  │\n",
       "│ 53274 │ Our Godfather                                       │ 2019  │\n",
       "│ 53275 │ The Haunting of La Llorona                          │ 2019  │\n",
       "│ 53276 │ Hallowed Ground                                     │ 2019  │\n",
       "│ 53277 │ Travis Scott: Look Mom I Can Fly                    │ 2019  │\n",
       "│ 53278 │ I Am Patrick Swayze                                 │ 2019  │\n",
       "│ 53279 │ Ne pozabi dihati                                    │ 2019  │\n",
       "│ 53280 │ Famosa                                              │ 2019  │\n",
       "│ 53281 │ Clown                                               │ 2019  │\n",
       "│ 53282 │ Big Top Evil                                        │ 2019  │"
      ]
     },
     "execution_count": 26,
     "metadata": {},
     "output_type": "execute_result"
    }
   ],
   "source": [
    "movies = dropmissing(movies)"
   ]
  },
  {
   "cell_type": "code",
   "execution_count": 29,
   "metadata": {},
   "outputs": [
    {
     "data": {
      "text/html": [
       "<table class=\"data-frame\"><thead><tr><th></th><th>titulo</th><th>ano</th><th>genero</th><th>duracao</th><th>voto_medio</th></tr><tr><th></th><th>String</th><th>Int64</th><th>String</th><th>Int64</th><th>Float64</th></tr></thead><tbody><p>52 rows × 6 columns (omitted printing of 1 columns)</p><tr><th>1</th><td>From the Manger to the Cross; or, Jesus of Nazareth</td><td>1912</td><td>Biblico</td><td>71</td><td>6.0</td></tr><tr><th>2</th><td>Salome</td><td>1923</td><td>Biblico</td><td>72</td><td>7.7</td></tr><tr><th>3</th><td>The King of Kings</td><td>1927</td><td>Biblico</td><td>112</td><td>6.5</td></tr><tr><th>4</th><td>The Robe</td><td>1953</td><td>Biblico</td><td>135</td><td>6.0</td></tr><tr><th>5</th><td>The Ten Commandments</td><td>1956</td><td>Biblico</td><td>220</td><td>8.2</td></tr><tr><th>6</th><td>Erode il Grande</td><td>1958</td><td>Biblico</td><td>95</td><td>4.3</td></tr><tr><th>7</th><td>Giuditta e Oloferne</td><td>1958</td><td>Biblico</td><td>100</td><td>4.3</td></tr><tr><th>8</th><td>Ben Hur</td><td>1959</td><td>Biblico</td><td>212</td><td>8.0</td></tr><tr><th>9</th><td>The Big Fisherman</td><td>1959</td><td>Biblico</td><td>166</td><td>4.0</td></tr><tr><th>10</th><td>La spada e la croce</td><td>1959</td><td>Biblico</td><td>106</td><td>4.1</td></tr><tr><th>11</th><td>Solomon and Sheba</td><td>1959</td><td>Biblico</td><td>120</td><td>5.9</td></tr><tr><th>12</th><td>David e Golia</td><td>1959</td><td>Biblico</td><td>113</td><td>4.6</td></tr><tr><th>13</th><td>The Story of Ruth</td><td>1960</td><td>Biblico</td><td>132</td><td>5.2</td></tr><tr><th>14</th><td>Ester e il re</td><td>1960</td><td>Biblico</td><td>109</td><td>4.3</td></tr><tr><th>15</th><td>Giuseppe venduto dai fratelli</td><td>1961</td><td>Biblico</td><td>102</td><td>4.6</td></tr><tr><th>16</th><td>The King of Kings</td><td>1961</td><td>Biblico</td><td>168</td><td>6.1</td></tr><tr><th>17</th><td>Giacobbe, l'uomo che lottò con Dio</td><td>1963</td><td>Biblico</td><td>84</td><td>8.0</td></tr><tr><th>18</th><td>Saul e David</td><td>1964</td><td>Biblico</td><td>115</td><td>6.3</td></tr><tr><th>19</th><td>The Greatest Story Ever Told</td><td>1965</td><td>Biblico</td><td>200</td><td>5.4</td></tr><tr><th>20</th><td>Il Messia</td><td>1975</td><td>Biblico</td><td>140</td><td>6.3</td></tr><tr><th>21</th><td>Gesù di Nazareth</td><td>1977</td><td>Biblico</td><td>371</td><td>6.8</td></tr><tr><th>22</th><td>Esther</td><td>1985</td><td>Biblico</td><td>90</td><td>7.5</td></tr><tr><th>23</th><td>Genesi - La Creazione e il Diluvio</td><td>1994</td><td>Biblico</td><td>101</td><td>4.8</td></tr><tr><th>24</th><td>Viaggiu dulurusu</td><td>1995</td><td>Biblico</td><td>41</td><td>6.0</td></tr><tr><th>25</th><td>Samson and Delilah</td><td>1996</td><td>Biblico</td><td>172</td><td>4.6</td></tr><tr><th>26</th><td>Il quarto re</td><td>1997</td><td>Biblico</td><td>90</td><td>4.1</td></tr><tr><th>27</th><td>Solomon</td><td>1997</td><td>Biblico</td><td>180</td><td>5.5</td></tr><tr><th>28</th><td>David</td><td>1997</td><td>Biblico</td><td>190</td><td>3.3</td></tr><tr><th>29</th><td>Jeremiah</td><td>1998</td><td>Biblico</td><td>90</td><td>5.0</td></tr><tr><th>30</th><td>Giuseppe di Nazareth</td><td>1999</td><td>Biblico</td><td>96</td><td>3.9</td></tr><tr><th>&vellip;</th><td>&vellip;</td><td>&vellip;</td><td>&vellip;</td><td>&vellip;</td><td>&vellip;</td></tr></tbody></table>"
      ],
      "text/latex": [
       "\\begin{tabular}{r|cccccc}\n",
       "\t& titulo & ano & genero & duracao & voto\\_medio & \\\\\n",
       "\t\\hline\n",
       "\t& String & Int64 & String & Int64 & Float64 & \\\\\n",
       "\t\\hline\n",
       "\t1 & From the Manger to the Cross; or, Jesus of Nazareth & 1912 & Biblico & 71 & 6.0 & $\\dots$ \\\\\n",
       "\t2 & Salome & 1923 & Biblico & 72 & 7.7 & $\\dots$ \\\\\n",
       "\t3 & The King of Kings & 1927 & Biblico & 112 & 6.5 & $\\dots$ \\\\\n",
       "\t4 & The Robe & 1953 & Biblico & 135 & 6.0 & $\\dots$ \\\\\n",
       "\t5 & The Ten Commandments & 1956 & Biblico & 220 & 8.2 & $\\dots$ \\\\\n",
       "\t6 & Erode il Grande & 1958 & Biblico & 95 & 4.3 & $\\dots$ \\\\\n",
       "\t7 & Giuditta e Oloferne & 1958 & Biblico & 100 & 4.3 & $\\dots$ \\\\\n",
       "\t8 & Ben Hur & 1959 & Biblico & 212 & 8.0 & $\\dots$ \\\\\n",
       "\t9 & The Big Fisherman & 1959 & Biblico & 166 & 4.0 & $\\dots$ \\\\\n",
       "\t10 & La spada e la croce & 1959 & Biblico & 106 & 4.1 & $\\dots$ \\\\\n",
       "\t11 & Solomon and Sheba & 1959 & Biblico & 120 & 5.9 & $\\dots$ \\\\\n",
       "\t12 & David e Golia & 1959 & Biblico & 113 & 4.6 & $\\dots$ \\\\\n",
       "\t13 & The Story of Ruth & 1960 & Biblico & 132 & 5.2 & $\\dots$ \\\\\n",
       "\t14 & Ester e il re & 1960 & Biblico & 109 & 4.3 & $\\dots$ \\\\\n",
       "\t15 & Giuseppe venduto dai fratelli & 1961 & Biblico & 102 & 4.6 & $\\dots$ \\\\\n",
       "\t16 & The King of Kings & 1961 & Biblico & 168 & 6.1 & $\\dots$ \\\\\n",
       "\t17 & Giacobbe, l'uomo che lottò con Dio & 1963 & Biblico & 84 & 8.0 & $\\dots$ \\\\\n",
       "\t18 & Saul e David & 1964 & Biblico & 115 & 6.3 & $\\dots$ \\\\\n",
       "\t19 & The Greatest Story Ever Told & 1965 & Biblico & 200 & 5.4 & $\\dots$ \\\\\n",
       "\t20 & Il Messia & 1975 & Biblico & 140 & 6.3 & $\\dots$ \\\\\n",
       "\t21 & Gesù di Nazareth & 1977 & Biblico & 371 & 6.8 & $\\dots$ \\\\\n",
       "\t22 & Esther & 1985 & Biblico & 90 & 7.5 & $\\dots$ \\\\\n",
       "\t23 & Genesi - La Creazione e il Diluvio & 1994 & Biblico & 101 & 4.8 & $\\dots$ \\\\\n",
       "\t24 & Viaggiu dulurusu & 1995 & Biblico & 41 & 6.0 & $\\dots$ \\\\\n",
       "\t25 & Samson and Delilah & 1996 & Biblico & 172 & 4.6 & $\\dots$ \\\\\n",
       "\t26 & Il quarto re & 1997 & Biblico & 90 & 4.1 & $\\dots$ \\\\\n",
       "\t27 & Solomon & 1997 & Biblico & 180 & 5.5 & $\\dots$ \\\\\n",
       "\t28 & David & 1997 & Biblico & 190 & 3.3 & $\\dots$ \\\\\n",
       "\t29 & Jeremiah & 1998 & Biblico & 90 & 5.0 & $\\dots$ \\\\\n",
       "\t30 & Giuseppe di Nazareth & 1999 & Biblico & 96 & 3.9 & $\\dots$ \\\\\n",
       "\t$\\dots$ & $\\dots$ & $\\dots$ & $\\dots$ & $\\dots$ & $\\dots$ &  \\\\\n",
       "\\end{tabular}\n"
      ],
      "text/plain": [
       "52×6 DataFrame. Omitted printing of 3 columns\n",
       "│ Row │ titulo                                              │ ano   │ genero  │\n",
       "│     │ \u001b[90mString\u001b[39m                                              │ \u001b[90mInt64\u001b[39m │ \u001b[90mString\u001b[39m  │\n",
       "├─────┼─────────────────────────────────────────────────────┼───────┼─────────┤\n",
       "│ 1   │ From the Manger to the Cross; or, Jesus of Nazareth │ 1912  │ Biblico │\n",
       "│ 2   │ Salome                                              │ 1923  │ Biblico │\n",
       "│ 3   │ The King of Kings                                   │ 1927  │ Biblico │\n",
       "│ 4   │ The Robe                                            │ 1953  │ Biblico │\n",
       "│ 5   │ The Ten Commandments                                │ 1956  │ Biblico │\n",
       "│ 6   │ Erode il Grande                                     │ 1958  │ Biblico │\n",
       "│ 7   │ Giuditta e Oloferne                                 │ 1958  │ Biblico │\n",
       "│ 8   │ Ben Hur                                             │ 1959  │ Biblico │\n",
       "│ 9   │ The Big Fisherman                                   │ 1959  │ Biblico │\n",
       "│ 10  │ La spada e la croce                                 │ 1959  │ Biblico │\n",
       "⋮\n",
       "│ 42  │ Maria di Nazaret                                    │ 2012  │ Biblico │\n",
       "│ 43  │ The Bible: In the Beginnings & Exodus               │ 2013  │ Biblico │\n",
       "│ 44  │ The Bible: Homeland & Kingdom                       │ 2013  │ Biblico │\n",
       "│ 45  │ The Bible: Survival & Hope                          │ 2013  │ Biblico │\n",
       "│ 46  │ The Bible: Mission & Betrayal                       │ 2013  │ Biblico │\n",
       "│ 47  │ The Bible: Passion & Courage                        │ 2013  │ Biblico │\n",
       "│ 48  │ Son of God                                          │ 2014  │ Biblico │\n",
       "│ 49  │ The Gospel of John                                  │ 2014  │ Biblico │\n",
       "│ 50  │ The Gospel of Mark                                  │ 2015  │ Biblico │\n",
       "│ 51  │ The Gospel of Luke                                  │ 2015  │ Biblico │\n",
       "│ 52  │ Samson                                              │ 2018  │ Biblico │"
      ]
     },
     "execution_count": 29,
     "metadata": {},
     "output_type": "execute_result"
    }
   ],
   "source": [
    "movies[occursin.(\"Biblico\", movies.genero), :]"
   ]
  },
  {
   "cell_type": "code",
   "execution_count": 30,
   "metadata": {},
   "outputs": [
    {
     "data": {
      "text/html": [
       "<p><b>GroupedDataFrame with 28 groups based on key: genero</b></p><p><i>First Group (19 rows): genero = \"Cortometraggio\"</i></p><table class=\"data-frame\"><thead><tr><th></th><th>titulo</th></tr><tr><th></th><th>String</th></tr></thead><tbody><tr><th>1</th><td>Le voleur invisible</td></tr><tr><th>2</th><td>Robinet aviatore</td></tr><tr><th>3</th><td>Poslovi konzula Dorgena</td></tr><tr><th>4</th><td>The Volunteer</td></tr><tr><th>5</th><td>Visa de censure n° X</td></tr><tr><th>6</th><td>D - Non diversi giorni si pensa splendessero alle prime origini del nascente mondo o che avessero temperatura diversa</td></tr><tr><th>7</th><td>Superstar: The Karen Carpenter Story</td></tr><tr><th>8</th><td>In coda della coda</td></tr><tr><th>9</th><td>Astrolite</td></tr><tr><th>10</th><td>Za horâ kaiki gekijô: Kaiki! Shinin shôjo</td></tr><tr><th>11</th><td>Haze</td></tr><tr><th>12</th><td>Walang alaala ang mga paru-paro</td></tr><tr><th>13</th><td>42 One Dream Rush</td></tr><tr><th>14</th><td>Boro in the Box</td></tr><tr><th>15</th><td>Roma, Napoli, Venezia… in un crescendo rossiniano</td></tr><tr><th>16</th><td>Due Sicilie</td></tr><tr><th>17</th><td>Sol negro</td></tr><tr><th>18</th><td>Oggi sono passato e tu non c'eri</td></tr><tr><th>19</th><td>Electric Swan</td></tr></tbody></table><p>&vellip;</p><p><i>Last Group (12 rows): genero = \"Sportivo\"</i></p><table class=\"data-frame\"><thead><tr><th></th><th>titulo</th><th>ano</th><th>genero</th><th>duracao</th><th>voto_medio</th><th>voto</th></tr><tr><th></th><th>String</th><th>Int64</th><th>String</th><th>Int64</th><th>Float64</th><th>Int64</th></tr></thead><tbody><tr><th>1</th><td>The Club</td><td>1979</td><td>Sportivo</td><td>96</td><td>6.0</td><td>1</td></tr><tr><th>2</th><td>Escape to Victory</td><td>1981</td><td>Sportivo</td><td>113</td><td>7.5</td><td>256</td></tr><tr><th>3</th><td>You've Got a Friend</td><td>2007</td><td>Sportivo</td><td>120</td><td>6.0</td><td>1</td></tr><tr><th>4</th><td>Fighting</td><td>2009</td><td>Sportivo</td><td>105</td><td>5.9</td><td>44</td></tr><tr><th>5</th><td>Slow Moe</td><td>2010</td><td>Sportivo</td><td>89</td><td>7.0</td><td>3</td></tr><tr><th>6</th><td>The 5th Quarter</td><td>2010</td><td>Sportivo</td><td>90</td><td>2.7</td><td>4</td></tr><tr><th>7</th><td>30 for 30: Once Brothers</td><td>2010</td><td>Sportivo</td><td>79</td><td>7.3</td><td>3</td></tr><tr><th>8</th><td>Pretty Tough</td><td>2011</td><td>Sportivo</td><td>104</td><td>3.0</td><td>2</td></tr><tr><th>9</th><td>Crooked Arrows</td><td>2012</td><td>Sportivo</td><td>100</td><td>4.3</td><td>3</td></tr><tr><th>10</th><td>Ricordando Mosca</td><td>2012</td><td>Sportivo</td><td>54</td><td>5.0</td><td>1</td></tr><tr><th>11</th><td>Snake and Mongoose</td><td>2013</td><td>Sportivo</td><td>101</td><td>10.0</td><td>1</td></tr><tr><th>12</th><td>Nika</td><td>2016</td><td>Sportivo</td><td>90</td><td>4.5</td><td>2</td></tr></tbody></table>"
      ],
      "text/latex": [
       "GroupedDataFrame with 28 groups based on key: genero\n",
       "\n",
       "First Group (19 rows): genero = \"Cortometraggio\"\n",
       "\n",
       "\\begin{tabular}{r|cc}\n",
       "\t& titulo & \\\\\n",
       "\t\\hline\n",
       "\t& String & \\\\\n",
       "\t\\hline\n",
       "\t1 & Le voleur invisible & $\\dots$ \\\\\n",
       "\t2 & Robinet aviatore & $\\dots$ \\\\\n",
       "\t3 & Poslovi konzula Dorgena & $\\dots$ \\\\\n",
       "\t4 & The Volunteer & $\\dots$ \\\\\n",
       "\t5 & Visa de censure n° X & $\\dots$ \\\\\n",
       "\t6 & D - Non diversi giorni si pensa splendessero alle prime origini del nascente mondo o che avessero temperatura diversa & $\\dots$ \\\\\n",
       "\t7 & Superstar: The Karen Carpenter Story & $\\dots$ \\\\\n",
       "\t8 & In coda della coda & $\\dots$ \\\\\n",
       "\t9 & Astrolite & $\\dots$ \\\\\n",
       "\t10 & Za horâ kaiki gekijô: Kaiki! Shinin shôjo & $\\dots$ \\\\\n",
       "\t11 & Haze & $\\dots$ \\\\\n",
       "\t12 & Walang alaala ang mga paru-paro & $\\dots$ \\\\\n",
       "\t13 & 42 One Dream Rush & $\\dots$ \\\\\n",
       "\t14 & Boro in the Box & $\\dots$ \\\\\n",
       "\t15 & Roma, Napoli, Venezia… in un crescendo rossiniano & $\\dots$ \\\\\n",
       "\t16 & Due Sicilie & $\\dots$ \\\\\n",
       "\t17 & Sol negro & $\\dots$ \\\\\n",
       "\t18 & Oggi sono passato e tu non c'eri & $\\dots$ \\\\\n",
       "\t19 & Electric Swan & $\\dots$ \\\\\n",
       "\\end{tabular}\n",
       "\n",
       "$\\dots$\n",
       "\n",
       "Last Group (12 rows): genero = \"Sportivo\"\n",
       "\n",
       "\\begin{tabular}{r|cccccc}\n",
       "\t& titulo & ano & genero & duracao & voto\\_medio & voto\\\\\n",
       "\t\\hline\n",
       "\t& String & Int64 & String & Int64 & Float64 & Int64\\\\\n",
       "\t\\hline\n",
       "\t1 & The Club & 1979 & Sportivo & 96 & 6.0 & 1 \\\\\n",
       "\t2 & Escape to Victory & 1981 & Sportivo & 113 & 7.5 & 256 \\\\\n",
       "\t3 & You've Got a Friend & 2007 & Sportivo & 120 & 6.0 & 1 \\\\\n",
       "\t4 & Fighting & 2009 & Sportivo & 105 & 5.9 & 44 \\\\\n",
       "\t5 & Slow Moe & 2010 & Sportivo & 89 & 7.0 & 3 \\\\\n",
       "\t6 & The 5th Quarter & 2010 & Sportivo & 90 & 2.7 & 4 \\\\\n",
       "\t7 & 30 for 30: Once Brothers & 2010 & Sportivo & 79 & 7.3 & 3 \\\\\n",
       "\t8 & Pretty Tough & 2011 & Sportivo & 104 & 3.0 & 2 \\\\\n",
       "\t9 & Crooked Arrows & 2012 & Sportivo & 100 & 4.3 & 3 \\\\\n",
       "\t10 & Ricordando Mosca & 2012 & Sportivo & 54 & 5.0 & 1 \\\\\n",
       "\t11 & Snake and Mongoose & 2013 & Sportivo & 101 & 10.0 & 1 \\\\\n",
       "\t12 & Nika & 2016 & Sportivo & 90 & 4.5 & 2 \\\\\n",
       "\\end{tabular}\n"
      ],
      "text/plain": [
       "GroupedDataFrame with 28 groups based on key: genero\n",
       "First Group (19 rows): genero = \"Cortometraggio\". Omitted printing of 6 columns\n",
       "│ Row │ │     │ ├─────┼\n",
       "│ 1   │ │ 2   │ │ 3   │ │ 4   │ │ 5   │ │ 6   │ │ 7   │ │ 8   │ │ 9   │ │ 10  │ │ 11  │ │ 12  │ │ 13  │ │ 14  │ │ 15  │ │ 16  │ │ 17  │ │ 18  │ │ 19  │ \n",
       "⋮\n",
       "Last Group (12 rows): genero = \"Sportivo\". Omitted printing of 1 columns\n",
       "│ Row │ titulo                   │ ano   │ genero   │ duracao │ voto_medio │\n",
       "│     │ \u001b[90mString\u001b[39m                   │ \u001b[90mInt64\u001b[39m │ \u001b[90mString\u001b[39m   │ \u001b[90mInt64\u001b[39m   │ \u001b[90mFloat64\u001b[39m    │\n",
       "├─────┼──────────────────────────┼───────┼──────────┼─────────┼────────────┤\n",
       "│ 1   │ The Club                 │ 1979  │ Sportivo │ 96      │ 6.0        │\n",
       "│ 2   │ Escape to Victory        │ 1981  │ Sportivo │ 113     │ 7.5        │\n",
       "│ 3   │ You've Got a Friend      │ 2007  │ Sportivo │ 120     │ 6.0        │\n",
       "│ 4   │ Fighting                 │ 2009  │ Sportivo │ 105     │ 5.9        │\n",
       "│ 5   │ Slow Moe                 │ 2010  │ Sportivo │ 89      │ 7.0        │\n",
       "│ 6   │ The 5th Quarter          │ 2010  │ Sportivo │ 90      │ 2.7        │\n",
       "│ 7   │ 30 for 30: Once Brothers │ 2010  │ Sportivo │ 79      │ 7.3        │\n",
       "│ 8   │ Pretty Tough             │ 2011  │ Sportivo │ 104     │ 3.0        │\n",
       "│ 9   │ Crooked Arrows           │ 2012  │ Sportivo │ 100     │ 4.3        │\n",
       "│ 10  │ Ricordando Mosca         │ 2012  │ Sportivo │ 54      │ 5.0        │\n",
       "│ 11  │ Snake and Mongoose       │ 2013  │ Sportivo │ 101     │ 10.0       │\n",
       "│ 12  │ Nika                     │ 2016  │ Sportivo │ 90      │ 4.5        │"
      ]
     },
     "execution_count": 30,
     "metadata": {},
     "output_type": "execute_result"
    }
   ],
   "source": [
    "groupby(movies, [:genero])"
   ]
  },
  {
   "cell_type": "code",
   "execution_count": 31,
   "metadata": {},
   "outputs": [
    {
     "data": {
      "text/html": [
       "<table class=\"data-frame\"><thead><tr><th></th><th>genero</th><th>x1</th></tr><tr><th></th><th>String</th><th>Float64</th></tr></thead><tbody><p>28 rows × 2 columns</p><tr><th>1</th><td>Cortometraggio</td><td>6.28421</td></tr><tr><th>2</th><td>Drammatico</td><td>6.2359</td></tr><tr><th>3</th><td>Biblico</td><td>5.16731</td></tr><tr><th>4</th><td>Poliziesco</td><td>5.95772</td></tr><tr><th>5</th><td>Avventura</td><td>5.59081</td></tr><tr><th>6</th><td>Fantasy</td><td>5.53015</td></tr><tr><th>7</th><td>Commedia</td><td>5.57195</td></tr><tr><th>8</th><td>Storico</td><td>5.96768</td></tr><tr><th>9</th><td>Mélo</td><td>6.65877</td></tr><tr><th>10</th><td>Horror</td><td>5.20684</td></tr><tr><th>11</th><td>Documentario</td><td>6.55404</td></tr><tr><th>12</th><td>Thriller</td><td>5.53649</td></tr><tr><th>13</th><td>Western</td><td>5.8003</td></tr><tr><th>14</th><td>Guerra</td><td>6.22257</td></tr><tr><th>15</th><td>Grottesco</td><td>6.42183</td></tr><tr><th>16</th><td>Azione</td><td>5.26954</td></tr><tr><th>17</th><td>Biografico</td><td>6.0016</td></tr><tr><th>18</th><td>Gangster</td><td>6.55738</td></tr><tr><th>19</th><td>Sentimentale</td><td>5.23625</td></tr><tr><th>20</th><td>Mitologico</td><td>4.69024</td></tr><tr><th>21</th><td>Animazione</td><td>5.98575</td></tr><tr><th>22</th><td>Musicale</td><td>5.84771</td></tr><tr><th>23</th><td>Spionaggio</td><td>5.59756</td></tr><tr><th>24</th><td>Sperimentale</td><td>6.57281</td></tr><tr><th>25</th><td>Noir</td><td>6.97993</td></tr><tr><th>26</th><td>Catastrofico</td><td>4.8954</td></tr><tr><th>27</th><td>Supereroi</td><td>5.96883</td></tr><tr><th>28</th><td>Sportivo</td><td>5.76667</td></tr></tbody></table>"
      ],
      "text/latex": [
       "\\begin{tabular}{r|cc}\n",
       "\t& genero & x1\\\\\n",
       "\t\\hline\n",
       "\t& String & Float64\\\\\n",
       "\t\\hline\n",
       "\t1 & Cortometraggio & 6.28421 \\\\\n",
       "\t2 & Drammatico & 6.2359 \\\\\n",
       "\t3 & Biblico & 5.16731 \\\\\n",
       "\t4 & Poliziesco & 5.95772 \\\\\n",
       "\t5 & Avventura & 5.59081 \\\\\n",
       "\t6 & Fantasy & 5.53015 \\\\\n",
       "\t7 & Commedia & 5.57195 \\\\\n",
       "\t8 & Storico & 5.96768 \\\\\n",
       "\t9 & Mélo & 6.65877 \\\\\n",
       "\t10 & Horror & 5.20684 \\\\\n",
       "\t11 & Documentario & 6.55404 \\\\\n",
       "\t12 & Thriller & 5.53649 \\\\\n",
       "\t13 & Western & 5.8003 \\\\\n",
       "\t14 & Guerra & 6.22257 \\\\\n",
       "\t15 & Grottesco & 6.42183 \\\\\n",
       "\t16 & Azione & 5.26954 \\\\\n",
       "\t17 & Biografico & 6.0016 \\\\\n",
       "\t18 & Gangster & 6.55738 \\\\\n",
       "\t19 & Sentimentale & 5.23625 \\\\\n",
       "\t20 & Mitologico & 4.69024 \\\\\n",
       "\t21 & Animazione & 5.98575 \\\\\n",
       "\t22 & Musicale & 5.84771 \\\\\n",
       "\t23 & Spionaggio & 5.59756 \\\\\n",
       "\t24 & Sperimentale & 6.57281 \\\\\n",
       "\t25 & Noir & 6.97993 \\\\\n",
       "\t26 & Catastrofico & 4.8954 \\\\\n",
       "\t27 & Supereroi & 5.96883 \\\\\n",
       "\t28 & Sportivo & 5.76667 \\\\\n",
       "\\end{tabular}\n"
      ],
      "text/plain": [
       "28×2 DataFrame\n",
       "│ Row │ genero         │ x1      │\n",
       "│     │ \u001b[90mString\u001b[39m         │ \u001b[90mFloat64\u001b[39m │\n",
       "├─────┼────────────────┼─────────┤\n",
       "│ 1   │ Cortometraggio │ 6.28421 │\n",
       "│ 2   │ Drammatico     │ 6.2359  │\n",
       "│ 3   │ Biblico        │ 5.16731 │\n",
       "│ 4   │ Poliziesco     │ 5.95772 │\n",
       "│ 5   │ Avventura      │ 5.59081 │\n",
       "│ 6   │ Fantasy        │ 5.53015 │\n",
       "│ 7   │ Commedia       │ 5.57195 │\n",
       "│ 8   │ Storico        │ 5.96768 │\n",
       "│ 9   │ Mélo           │ 6.65877 │\n",
       "│ 10  │ Horror         │ 5.20684 │\n",
       "⋮\n",
       "│ 18  │ Gangster       │ 6.55738 │\n",
       "│ 19  │ Sentimentale   │ 5.23625 │\n",
       "│ 20  │ Mitologico     │ 4.69024 │\n",
       "│ 21  │ Animazione     │ 5.98575 │\n",
       "│ 22  │ Musicale       │ 5.84771 │\n",
       "│ 23  │ Spionaggio     │ 5.59756 │\n",
       "│ 24  │ Sperimentale   │ 6.57281 │\n",
       "│ 25  │ Noir           │ 6.97993 │\n",
       "│ 26  │ Catastrofico   │ 4.8954  │\n",
       "│ 27  │ Supereroi      │ 5.96883 │\n",
       "│ 28  │ Sportivo       │ 5.76667 │"
      ]
     },
     "execution_count": 31,
     "metadata": {},
     "output_type": "execute_result"
    }
   ],
   "source": [
    "by(movies, [:genero], movies -> mean(movies[:, :voto_medio]))"
   ]
  },
  {
   "cell_type": "code",
   "execution_count": 32,
   "metadata": {},
   "outputs": [
    {
     "data": {
      "text/plain": [
       "53282-element WeakRefStrings.StringArray{String,1}:\n",
       " \"Le voleur invisible\"                                \n",
       " \"L'inferno\"                                          \n",
       " \"Robinet aviatore\"                                   \n",
       " \"Les amours de la reine Élisabeth\"                   \n",
       " \"Quo vadis?\"                                         \n",
       " \"From the Manger to the Cross; or, Jesus of Nazareth\"\n",
       " \"Fantômas - À l'ombre de la guillotine\"              \n",
       " \"Juve contre Fantômas\"                               \n",
       " \"La mort qui tue\"                                    \n",
       " \"Ma l'amore mio non muore\"                           \n",
       " \"Ingeborg Holm\"                                      \n",
       " \"Atlantis\"                                           \n",
       " \"Ivanhoe\"                                            \n",
       " ⋮                                                    \n",
       " \"El Camino: A Breaking Bad Movie\"                    \n",
       " \"Irréversible - Inversion intégrale\"                 \n",
       " \"Bar Giuseppe\"                                       \n",
       " \"Our Godfather\"                                      \n",
       " \"The Haunting of La Llorona\"                         \n",
       " \"Hallowed Ground\"                                    \n",
       " \"Travis Scott: Look Mom I Can Fly\"                   \n",
       " \"I Am Patrick Swayze\"                                \n",
       " \"Ne pozabi dihati\"                                   \n",
       " \"Famosa\"                                             \n",
       " \"Clown\"                                              \n",
       " \"Big Top Evil\"                                       "
      ]
     },
     "execution_count": 32,
     "metadata": {},
     "output_type": "execute_result"
    }
   ],
   "source": [
    "movies.titulo"
   ]
  },
  {
   "cell_type": "code",
   "execution_count": 33,
   "metadata": {},
   "outputs": [
    {
     "data": {
      "text/plain": [
       "53282-element Array{Float64,1}:\n",
       " 7.2               \n",
       " 1.1333333333333333\n",
       " 8.933333333333334 \n",
       " 0.6666666666666666\n",
       " 2.0               \n",
       " 1.1833333333333333\n",
       " 0.9               \n",
       " 0.75              \n",
       " 1.5               \n",
       " 2.0               \n",
       " 1.6               \n",
       " 2.0166666666666666\n",
       " 0.8               \n",
       " ⋮                 \n",
       " 2.033333333333333 \n",
       " 1.4333333333333333\n",
       " 1.5833333333333333\n",
       " 1.5333333333333334\n",
       " 1.1833333333333333\n",
       " 1.95              \n",
       " 1.4               \n",
       " 1.5333333333333334\n",
       " 1.6166666666666667\n",
       " 1.5               \n",
       " 1.45              \n",
       " 1.35              "
      ]
     },
     "execution_count": 33,
     "metadata": {},
     "output_type": "execute_result"
    }
   ],
   "source": [
    "movies[!, :duracao_hm] .= movies.duracao / 60"
   ]
  },
  {
   "cell_type": "code",
   "execution_count": 40,
   "metadata": {},
   "outputs": [
    {
     "data": {
      "text/html": [
       "<table class=\"data-frame\"><thead><tr><th></th><th>titulo</th><th>duracao_hm</th></tr><tr><th></th><th>String</th><th>Float64</th></tr></thead><tbody><p>53,282 rows × 2 columns</p><tr><th>1</th><td>Le voleur invisible</td><td>7.2</td></tr><tr><th>2</th><td>L'inferno</td><td>1.13333</td></tr><tr><th>3</th><td>Robinet aviatore</td><td>8.93333</td></tr><tr><th>4</th><td>Les amours de la reine Élisabeth</td><td>0.666667</td></tr><tr><th>5</th><td>Quo vadis?</td><td>2.0</td></tr><tr><th>6</th><td>From the Manger to the Cross; or, Jesus of Nazareth</td><td>1.18333</td></tr><tr><th>7</th><td>Fantômas - À l'ombre de la guillotine</td><td>0.9</td></tr><tr><th>8</th><td>Juve contre Fantômas</td><td>0.75</td></tr><tr><th>9</th><td>La mort qui tue</td><td>1.5</td></tr><tr><th>10</th><td>Ma l'amore mio non muore</td><td>2.0</td></tr><tr><th>11</th><td>Ingeborg Holm</td><td>1.6</td></tr><tr><th>12</th><td>Atlantis</td><td>2.01667</td></tr><tr><th>13</th><td>Ivanhoe</td><td>0.8</td></tr><tr><th>14</th><td>Noch pered Rozhdestvom</td><td>0.683333</td></tr><tr><th>15</th><td>Cabiria</td><td>1.9</td></tr><tr><th>16</th><td>Fantômas contre Fantômas</td><td>0.983333</td></tr><tr><th>17</th><td>Le faux magistrat</td><td>1.16667</td></tr><tr><th>18</th><td>Judith of Betulia</td><td>0.766667</td></tr><tr><th>19</th><td>Tillie's Punctured Romance</td><td>1.36667</td></tr><tr><th>20</th><td>Det hemmelighedsfulde X</td><td>1.4</td></tr><tr><th>21</th><td>Sangue blu</td><td>0.916667</td></tr><tr><th>22</th><td>The Birth of a Nation</td><td>2.75</td></tr><tr><th>23</th><td>The Cheat</td><td>0.983333</td></tr><tr><th>24</th><td>Rapsodia satanica</td><td>0.666667</td></tr><tr><th>25</th><td>Les Vampires</td><td>0.95</td></tr><tr><th>26</th><td>Les Vampires</td><td>1.43333</td></tr><tr><th>27</th><td>Les Vampires</td><td>1.88333</td></tr><tr><th>28</th><td>Les Vampires</td><td>2.06667</td></tr><tr><th>29</th><td>Assunta Spina</td><td>0.833333</td></tr><tr><th>30</th><td>Hypocrites</td><td>0.816667</td></tr><tr><th>&vellip;</th><td>&vellip;</td><td>&vellip;</td></tr></tbody></table>"
      ],
      "text/latex": [
       "\\begin{tabular}{r|cc}\n",
       "\t& titulo & duracao\\_hm\\\\\n",
       "\t\\hline\n",
       "\t& String & Float64\\\\\n",
       "\t\\hline\n",
       "\t1 & Le voleur invisible & 7.2 \\\\\n",
       "\t2 & L'inferno & 1.13333 \\\\\n",
       "\t3 & Robinet aviatore & 8.93333 \\\\\n",
       "\t4 & Les amours de la reine Élisabeth & 0.666667 \\\\\n",
       "\t5 & Quo vadis? & 2.0 \\\\\n",
       "\t6 & From the Manger to the Cross; or, Jesus of Nazareth & 1.18333 \\\\\n",
       "\t7 & Fantômas - À l'ombre de la guillotine & 0.9 \\\\\n",
       "\t8 & Juve contre Fantômas & 0.75 \\\\\n",
       "\t9 & La mort qui tue & 1.5 \\\\\n",
       "\t10 & Ma l'amore mio non muore & 2.0 \\\\\n",
       "\t11 & Ingeborg Holm & 1.6 \\\\\n",
       "\t12 & Atlantis & 2.01667 \\\\\n",
       "\t13 & Ivanhoe & 0.8 \\\\\n",
       "\t14 & Noch pered Rozhdestvom & 0.683333 \\\\\n",
       "\t15 & Cabiria & 1.9 \\\\\n",
       "\t16 & Fantômas contre Fantômas & 0.983333 \\\\\n",
       "\t17 & Le faux magistrat & 1.16667 \\\\\n",
       "\t18 & Judith of Betulia & 0.766667 \\\\\n",
       "\t19 & Tillie's Punctured Romance & 1.36667 \\\\\n",
       "\t20 & Det hemmelighedsfulde X & 1.4 \\\\\n",
       "\t21 & Sangue blu & 0.916667 \\\\\n",
       "\t22 & The Birth of a Nation & 2.75 \\\\\n",
       "\t23 & The Cheat & 0.983333 \\\\\n",
       "\t24 & Rapsodia satanica & 0.666667 \\\\\n",
       "\t25 & Les Vampires & 0.95 \\\\\n",
       "\t26 & Les Vampires & 1.43333 \\\\\n",
       "\t27 & Les Vampires & 1.88333 \\\\\n",
       "\t28 & Les Vampires & 2.06667 \\\\\n",
       "\t29 & Assunta Spina & 0.833333 \\\\\n",
       "\t30 & Hypocrites & 0.816667 \\\\\n",
       "\t$\\dots$ & $\\dots$ & $\\dots$ \\\\\n",
       "\\end{tabular}\n"
      ],
      "text/plain": [
       "53282×2 DataFrame\n",
       "│ Row   │ titulo                                              │ duracao_hm │\n",
       "│       │ \u001b[90mString\u001b[39m                                              │ \u001b[90mFloat64\u001b[39m    │\n",
       "├───────┼─────────────────────────────────────────────────────┼────────────┤\n",
       "│ 1     │ Le voleur invisible                                 │ 7.2        │\n",
       "│ 2     │ L'inferno                                           │ 1.13333    │\n",
       "│ 3     │ Robinet aviatore                                    │ 8.93333    │\n",
       "│ 4     │ Les amours de la reine Élisabeth                    │ 0.666667   │\n",
       "│ 5     │ Quo vadis?                                          │ 2.0        │\n",
       "│ 6     │ From the Manger to the Cross; or, Jesus of Nazareth │ 1.18333    │\n",
       "│ 7     │ Fantômas - À l'ombre de la guillotine               │ 0.9        │\n",
       "│ 8     │ Juve contre Fantômas                                │ 0.75       │\n",
       "│ 9     │ La mort qui tue                                     │ 1.5        │\n",
       "│ 10    │ Ma l'amore mio non muore                            │ 2.0        │\n",
       "⋮\n",
       "│ 53272 │ Irréversible - Inversion intégrale                  │ 1.43333    │\n",
       "│ 53273 │ Bar Giuseppe                                        │ 1.58333    │\n",
       "│ 53274 │ Our Godfather                                       │ 1.53333    │\n",
       "│ 53275 │ The Haunting of La Llorona                          │ 1.18333    │\n",
       "│ 53276 │ Hallowed Ground                                     │ 1.95       │\n",
       "│ 53277 │ Travis Scott: Look Mom I Can Fly                    │ 1.4        │\n",
       "│ 53278 │ I Am Patrick Swayze                                 │ 1.53333    │\n",
       "│ 53279 │ Ne pozabi dihati                                    │ 1.61667    │\n",
       "│ 53280 │ Famosa                                              │ 1.5        │\n",
       "│ 53281 │ Clown                                               │ 1.45       │\n",
       "│ 53282 │ Big Top Evil                                        │ 1.35       │"
      ]
     },
     "execution_count": 40,
     "metadata": {},
     "output_type": "execute_result"
    }
   ],
   "source": [
    "movies[:, [:titulo, :duracao_hm]]"
   ]
  },
  {
   "cell_type": "code",
   "execution_count": 38,
   "metadata": {},
   "outputs": [
    {
     "data": {
      "text/html": [
       "<table class=\"data-frame\"><thead><tr><th></th><th>titulo</th><th>ano</th><th>genero</th><th>voto_medio</th></tr><tr><th></th><th>String</th><th>Int64</th><th>String</th><th>Float64</th></tr></thead><tbody><p>53,282 rows × 6 columns (omitted printing of 2 columns)</p><tr><th>1</th><td>Le voleur invisible</td><td>1909</td><td>Cortometraggio</td><td>7.7</td></tr><tr><th>2</th><td>L'inferno</td><td>1911</td><td>Drammatico</td><td>8.1</td></tr><tr><th>3</th><td>Robinet aviatore</td><td>1911</td><td>Cortometraggio</td><td>7.3</td></tr><tr><th>4</th><td>Les amours de la reine Élisabeth</td><td>1912</td><td>Drammatico</td><td>5.5</td></tr><tr><th>5</th><td>Quo vadis?</td><td>1912</td><td>Drammatico</td><td>9.5</td></tr><tr><th>6</th><td>From the Manger to the Cross; or, Jesus of Nazareth</td><td>1912</td><td>Biblico</td><td>6.0</td></tr><tr><th>7</th><td>Fantômas - À l'ombre de la guillotine</td><td>1913</td><td>Poliziesco</td><td>7.9</td></tr><tr><th>8</th><td>Juve contre Fantômas</td><td>1913</td><td>Poliziesco</td><td>7.6</td></tr><tr><th>9</th><td>La mort qui tue</td><td>1913</td><td>Poliziesco</td><td>7.4</td></tr><tr><th>10</th><td>Ma l'amore mio non muore</td><td>1913</td><td>Drammatico</td><td>7.5</td></tr><tr><th>11</th><td>Ingeborg Holm</td><td>1913</td><td>Drammatico</td><td>7.8</td></tr><tr><th>12</th><td>Atlantis</td><td>1913</td><td>Drammatico</td><td>6.5</td></tr><tr><th>13</th><td>Ivanhoe</td><td>1913</td><td>Avventura</td><td>6.5</td></tr><tr><th>14</th><td>Noch pered Rozhdestvom</td><td>1913</td><td>Fantasy</td><td>6.5</td></tr><tr><th>15</th><td>Cabiria</td><td>1914</td><td>Drammatico</td><td>8.1</td></tr><tr><th>16</th><td>Fantômas contre Fantômas</td><td>1914</td><td>Poliziesco</td><td>7.3</td></tr><tr><th>17</th><td>Le faux magistrat</td><td>1914</td><td>Poliziesco</td><td>8.2</td></tr><tr><th>18</th><td>Judith of Betulia</td><td>1914</td><td>Drammatico</td><td>7.5</td></tr><tr><th>19</th><td>Tillie's Punctured Romance</td><td>1914</td><td>Commedia</td><td>6.0</td></tr><tr><th>20</th><td>Det hemmelighedsfulde X</td><td>1914</td><td>Drammatico</td><td>7.0</td></tr><tr><th>21</th><td>Sangue blu</td><td>1914</td><td>Drammatico</td><td>7.0</td></tr><tr><th>22</th><td>The Birth of a Nation</td><td>1915</td><td>Storico</td><td>7.9</td></tr><tr><th>23</th><td>The Cheat</td><td>1915</td><td>Drammatico</td><td>7.7</td></tr><tr><th>24</th><td>Rapsodia satanica</td><td>1915</td><td>Drammatico</td><td>7.1</td></tr><tr><th>25</th><td>Les Vampires</td><td>1915</td><td>Avventura</td><td>7.9</td></tr><tr><th>26</th><td>Les Vampires</td><td>1915</td><td>Avventura</td><td>7.9</td></tr><tr><th>27</th><td>Les Vampires</td><td>1915</td><td>Avventura</td><td>7.5</td></tr><tr><th>28</th><td>Les Vampires</td><td>1915</td><td>Avventura</td><td>7.5</td></tr><tr><th>29</th><td>Assunta Spina</td><td>1915</td><td>Drammatico</td><td>6.8</td></tr><tr><th>30</th><td>Hypocrites</td><td>1915</td><td>Drammatico</td><td>7.5</td></tr><tr><th>&vellip;</th><td>&vellip;</td><td>&vellip;</td><td>&vellip;</td><td>&vellip;</td></tr></tbody></table>"
      ],
      "text/latex": [
       "\\begin{tabular}{r|ccccc}\n",
       "\t& titulo & ano & genero & voto\\_medio & \\\\\n",
       "\t\\hline\n",
       "\t& String & Int64 & String & Float64 & \\\\\n",
       "\t\\hline\n",
       "\t1 & Le voleur invisible & 1909 & Cortometraggio & 7.7 & $\\dots$ \\\\\n",
       "\t2 & L'inferno & 1911 & Drammatico & 8.1 & $\\dots$ \\\\\n",
       "\t3 & Robinet aviatore & 1911 & Cortometraggio & 7.3 & $\\dots$ \\\\\n",
       "\t4 & Les amours de la reine Élisabeth & 1912 & Drammatico & 5.5 & $\\dots$ \\\\\n",
       "\t5 & Quo vadis? & 1912 & Drammatico & 9.5 & $\\dots$ \\\\\n",
       "\t6 & From the Manger to the Cross; or, Jesus of Nazareth & 1912 & Biblico & 6.0 & $\\dots$ \\\\\n",
       "\t7 & Fantômas - À l'ombre de la guillotine & 1913 & Poliziesco & 7.9 & $\\dots$ \\\\\n",
       "\t8 & Juve contre Fantômas & 1913 & Poliziesco & 7.6 & $\\dots$ \\\\\n",
       "\t9 & La mort qui tue & 1913 & Poliziesco & 7.4 & $\\dots$ \\\\\n",
       "\t10 & Ma l'amore mio non muore & 1913 & Drammatico & 7.5 & $\\dots$ \\\\\n",
       "\t11 & Ingeborg Holm & 1913 & Drammatico & 7.8 & $\\dots$ \\\\\n",
       "\t12 & Atlantis & 1913 & Drammatico & 6.5 & $\\dots$ \\\\\n",
       "\t13 & Ivanhoe & 1913 & Avventura & 6.5 & $\\dots$ \\\\\n",
       "\t14 & Noch pered Rozhdestvom & 1913 & Fantasy & 6.5 & $\\dots$ \\\\\n",
       "\t15 & Cabiria & 1914 & Drammatico & 8.1 & $\\dots$ \\\\\n",
       "\t16 & Fantômas contre Fantômas & 1914 & Poliziesco & 7.3 & $\\dots$ \\\\\n",
       "\t17 & Le faux magistrat & 1914 & Poliziesco & 8.2 & $\\dots$ \\\\\n",
       "\t18 & Judith of Betulia & 1914 & Drammatico & 7.5 & $\\dots$ \\\\\n",
       "\t19 & Tillie's Punctured Romance & 1914 & Commedia & 6.0 & $\\dots$ \\\\\n",
       "\t20 & Det hemmelighedsfulde X & 1914 & Drammatico & 7.0 & $\\dots$ \\\\\n",
       "\t21 & Sangue blu & 1914 & Drammatico & 7.0 & $\\dots$ \\\\\n",
       "\t22 & The Birth of a Nation & 1915 & Storico & 7.9 & $\\dots$ \\\\\n",
       "\t23 & The Cheat & 1915 & Drammatico & 7.7 & $\\dots$ \\\\\n",
       "\t24 & Rapsodia satanica & 1915 & Drammatico & 7.1 & $\\dots$ \\\\\n",
       "\t25 & Les Vampires & 1915 & Avventura & 7.9 & $\\dots$ \\\\\n",
       "\t26 & Les Vampires & 1915 & Avventura & 7.9 & $\\dots$ \\\\\n",
       "\t27 & Les Vampires & 1915 & Avventura & 7.5 & $\\dots$ \\\\\n",
       "\t28 & Les Vampires & 1915 & Avventura & 7.5 & $\\dots$ \\\\\n",
       "\t29 & Assunta Spina & 1915 & Drammatico & 6.8 & $\\dots$ \\\\\n",
       "\t30 & Hypocrites & 1915 & Drammatico & 7.5 & $\\dots$ \\\\\n",
       "\t$\\dots$ & $\\dots$ & $\\dots$ & $\\dots$ & $\\dots$ &  \\\\\n",
       "\\end{tabular}\n"
      ],
      "text/plain": [
       "53282×6 DataFrame. Omitted printing of 4 columns\n",
       "│ Row   │ titulo                                              │ ano   │\n",
       "│       │ \u001b[90mString\u001b[39m                                              │ \u001b[90mInt64\u001b[39m │\n",
       "├───────┼─────────────────────────────────────────────────────┼───────┤\n",
       "│ 1     │ Le voleur invisible                                 │ 1909  │\n",
       "│ 2     │ L'inferno                                           │ 1911  │\n",
       "│ 3     │ Robinet aviatore                                    │ 1911  │\n",
       "│ 4     │ Les amours de la reine Élisabeth                    │ 1912  │\n",
       "│ 5     │ Quo vadis?                                          │ 1912  │\n",
       "│ 6     │ From the Manger to the Cross; or, Jesus of Nazareth │ 1912  │\n",
       "│ 7     │ Fantômas - À l'ombre de la guillotine               │ 1913  │\n",
       "│ 8     │ Juve contre Fantômas                                │ 1913  │\n",
       "│ 9     │ La mort qui tue                                     │ 1913  │\n",
       "│ 10    │ Ma l'amore mio non muore                            │ 1913  │\n",
       "⋮\n",
       "│ 53272 │ Irréversible - Inversion intégrale                  │ 2019  │\n",
       "│ 53273 │ Bar Giuseppe                                        │ 2019  │\n",
       "│ 53274 │ Our Godfather                                       │ 2019  │\n",
       "│ 53275 │ The Haunting of La Llorona                          │ 2019  │\n",
       "│ 53276 │ Hallowed Ground                                     │ 2019  │\n",
       "│ 53277 │ Travis Scott: Look Mom I Can Fly                    │ 2019  │\n",
       "│ 53278 │ I Am Patrick Swayze                                 │ 2019  │\n",
       "│ 53279 │ Ne pozabi dihati                                    │ 2019  │\n",
       "│ 53280 │ Famosa                                              │ 2019  │\n",
       "│ 53281 │ Clown                                               │ 2019  │\n",
       "│ 53282 │ Big Top Evil                                        │ 2019  │"
      ]
     },
     "execution_count": 38,
     "metadata": {},
     "output_type": "execute_result"
    }
   ],
   "source": [
    "select!(movies, Not(:duracao))"
   ]
  },
  {
   "cell_type": "code",
   "execution_count": 41,
   "metadata": {},
   "outputs": [
    {
     "data": {
      "text/plain": [
       "6-element Array{Symbol,1}:\n",
       " :titulo    \n",
       " :ano       \n",
       " :genero    \n",
       " :voto_medio\n",
       " :voto      \n",
       " :duracao_hm"
      ]
     },
     "execution_count": 41,
     "metadata": {},
     "output_type": "execute_result"
    }
   ],
   "source": [
    "names(movies)"
   ]
  },
  {
   "cell_type": "code",
   "execution_count": 46,
   "metadata": {},
   "outputs": [
    {
     "name": "stderr",
     "output_type": "stream",
     "text": [
      "┌ Warning: `getindex(df::DataFrame, col_inds::Union{AbstractVector, Regex, Not})` is deprecated, use `df[:, col_inds]` instead.\n",
      "│   caller = top-level scope at In[46]:1\n",
      "└ @ Core In[46]:1\n"
     ]
    },
    {
     "data": {
      "text/html": [
       "<table class=\"data-frame\"><thead><tr><th></th><th>titulo</th><th>ano</th><th>duracao_hm</th></tr><tr><th></th><th>String</th><th>Int64</th><th>Float64</th></tr></thead><tbody><p>135 rows × 3 columns</p><tr><th>1</th><td>Bikini Bandits</td><td>2002</td><td>1.0</td></tr><tr><th>2</th><td>Stitch! The Movie</td><td>2003</td><td>1.0</td></tr><tr><th>3</th><td>Stitch! The Movie</td><td>2003</td><td>1.0</td></tr><tr><th>4</th><td>Cowards Bend the Knee</td><td>2003</td><td>1.0</td></tr><tr><th>5</th><td>Impermanence - Viaggio nel mondo del Dalai Lama</td><td>2004</td><td>1.0</td></tr><tr><th>6</th><td>Shadowing the Third Man</td><td>2004</td><td>1.0</td></tr><tr><th>7</th><td>Terry</td><td>2005</td><td>1.0</td></tr><tr><th>8</th><td>Chocolate</td><td>2005</td><td>1.0</td></tr><tr><th>9</th><td>A kékszakállú herceg vára</td><td>2005</td><td>1.0</td></tr><tr><th>10</th><td>Gekijôban XXXHolic Manatsu no yoru no yume</td><td>2005</td><td>1.0</td></tr><tr><th>11</th><td>One Way Boogie Woogie/27 Years Later</td><td>2005</td><td>1.0</td></tr><tr><th>12</th><td>Doctor Who: The Christmas Invasion</td><td>2005</td><td>1.0</td></tr><tr><th>13</th><td>Sick Girl</td><td>2006</td><td>1.0</td></tr><tr><th>14</th><td>Valerie on the Stairs</td><td>2006</td><td>1.0</td></tr><tr><th>15</th><td>Diario di viaggio con fantasmi</td><td>2006</td><td>1.0</td></tr><tr><th>16</th><td>Chi siete venuti a cercare</td><td>2006</td><td>1.0</td></tr><tr><th>17</th><td>Making \"The New World\"</td><td>2006</td><td>1.0</td></tr><tr><th>18</th><td>Patito feo</td><td>2007</td><td>1.0</td></tr><tr><th>19</th><td>Cap Nord</td><td>2007</td><td>1.0</td></tr><tr><th>20</th><td>Once Upon a Time in Norway</td><td>2007</td><td>1.0</td></tr><tr><th>21</th><td>Oniris: I sogni erotici di Silvia</td><td>2007</td><td>1.0</td></tr><tr><th>22</th><td>The Sun and the Moon</td><td>2007</td><td>1.0</td></tr><tr><th>23</th><td>Parallel Worlds, Parallel Lives</td><td>2007</td><td>1.0</td></tr><tr><th>24</th><td>Le vite possibili</td><td>2008</td><td>1.0</td></tr><tr><th>25</th><td>Part of the Weekend Never Dies</td><td>2008</td><td>1.0</td></tr><tr><th>26</th><td>Aka Ana</td><td>2008</td><td>1.0</td></tr><tr><th>27</th><td>Come un uomo sulla terra</td><td>2008</td><td>1.0</td></tr><tr><th>28</th><td>La musica più comica del mondo - Prima parte</td><td>2009</td><td>1.0</td></tr><tr><th>29</th><td>Via della Croce</td><td>2009</td><td>1.0</td></tr><tr><th>30</th><td>Corde</td><td>2009</td><td>1.0</td></tr><tr><th>&vellip;</th><td>&vellip;</td><td>&vellip;</td><td>&vellip;</td></tr></tbody></table>"
      ],
      "text/latex": [
       "\\begin{tabular}{r|ccc}\n",
       "\t& titulo & ano & duracao\\_hm\\\\\n",
       "\t\\hline\n",
       "\t& String & Int64 & Float64\\\\\n",
       "\t\\hline\n",
       "\t1 & Bikini Bandits & 2002 & 1.0 \\\\\n",
       "\t2 & Stitch! The Movie & 2003 & 1.0 \\\\\n",
       "\t3 & Stitch! The Movie & 2003 & 1.0 \\\\\n",
       "\t4 & Cowards Bend the Knee & 2003 & 1.0 \\\\\n",
       "\t5 & Impermanence - Viaggio nel mondo del Dalai Lama & 2004 & 1.0 \\\\\n",
       "\t6 & Shadowing the Third Man & 2004 & 1.0 \\\\\n",
       "\t7 & Terry & 2005 & 1.0 \\\\\n",
       "\t8 & Chocolate & 2005 & 1.0 \\\\\n",
       "\t9 & A kékszakállú herceg vára & 2005 & 1.0 \\\\\n",
       "\t10 & Gekijôban XXXHolic Manatsu no yoru no yume & 2005 & 1.0 \\\\\n",
       "\t11 & One Way Boogie Woogie/27 Years Later & 2005 & 1.0 \\\\\n",
       "\t12 & Doctor Who: The Christmas Invasion & 2005 & 1.0 \\\\\n",
       "\t13 & Sick Girl & 2006 & 1.0 \\\\\n",
       "\t14 & Valerie on the Stairs & 2006 & 1.0 \\\\\n",
       "\t15 & Diario di viaggio con fantasmi & 2006 & 1.0 \\\\\n",
       "\t16 & Chi siete venuti a cercare & 2006 & 1.0 \\\\\n",
       "\t17 & Making \"The New World\" & 2006 & 1.0 \\\\\n",
       "\t18 & Patito feo & 2007 & 1.0 \\\\\n",
       "\t19 & Cap Nord & 2007 & 1.0 \\\\\n",
       "\t20 & Once Upon a Time in Norway & 2007 & 1.0 \\\\\n",
       "\t21 & Oniris: I sogni erotici di Silvia & 2007 & 1.0 \\\\\n",
       "\t22 & The Sun and the Moon & 2007 & 1.0 \\\\\n",
       "\t23 & Parallel Worlds, Parallel Lives & 2007 & 1.0 \\\\\n",
       "\t24 & Le vite possibili & 2008 & 1.0 \\\\\n",
       "\t25 & Part of the Weekend Never Dies & 2008 & 1.0 \\\\\n",
       "\t26 & Aka Ana & 2008 & 1.0 \\\\\n",
       "\t27 & Come un uomo sulla terra & 2008 & 1.0 \\\\\n",
       "\t28 & La musica più comica del mondo - Prima parte & 2009 & 1.0 \\\\\n",
       "\t29 & Via della Croce & 2009 & 1.0 \\\\\n",
       "\t30 & Corde & 2009 & 1.0 \\\\\n",
       "\t$\\dots$ & $\\dots$ & $\\dots$ & $\\dots$ \\\\\n",
       "\\end{tabular}\n"
      ],
      "text/plain": [
       "135×3 DataFrame. Omitted printing of 2 columns\n",
       "│ Row │ titulo                                                              │\n",
       "│     │ \u001b[90mString\u001b[39m                                                              │\n",
       "├─────┼─────────────────────────────────────────────────────────────────────┤\n",
       "│ 1   │ Bikini Bandits                                                      │\n",
       "│ 2   │ Stitch! The Movie                                                   │\n",
       "│ 3   │ Stitch! The Movie                                                   │\n",
       "│ 4   │ Cowards Bend the Knee                                               │\n",
       "│ 5   │ Impermanence - Viaggio nel mondo del Dalai Lama                     │\n",
       "│ 6   │ Shadowing the Third Man                                             │\n",
       "│ 7   │ Terry                                                               │\n",
       "│ 8   │ Chocolate                                                           │\n",
       "│ 9   │ A kékszakállú herceg vára                                           │\n",
       "│ 10  │ Gekijôban XXXHolic Manatsu no yoru no yume                          │\n",
       "⋮\n",
       "│ 125 │ The Carter Effect                                                   │\n",
       "│ 126 │ Aperti al pubblico                                                  │\n",
       "│ 127 │ Salvatrice - Sandra Milo si racconta                                │\n",
       "│ 128 │ Troverai un cuore. Una vita perduta in Dio                          │\n",
       "│ 129 │ Nickelodeon's Sizzling Summer Camp Special                          │\n",
       "│ 130 │ Il racconto del reale: E.S. 17 - Dio non manderà nessuno a salvarci │\n",
       "│ 131 │ La razzia, 16 ottobre 1943                                          │\n",
       "│ 132 │ Sex Story                                                           │\n",
       "│ 133 │ Il fattore umano, lo spirito del lavoro                             │\n",
       "│ 134 │ La Spartenza                                                        │\n",
       "│ 135 │ Io sono Sofia                                                       │"
      ]
     },
     "execution_count": 46,
     "metadata": {},
     "output_type": "execute_result"
    }
   ],
   "source": [
    "movies[.&(movies.ano .> 2000, movies.duracao_hm .== 1), :][[:titulo, :ano, :duracao_hm]]"
   ]
  },
  {
   "cell_type": "code",
   "execution_count": 47,
   "metadata": {},
   "outputs": [
    {
     "data": {
      "text/plain": [
       "\"filmes.csv\""
      ]
     },
     "execution_count": 47,
     "metadata": {},
     "output_type": "execute_result"
    }
   ],
   "source": [
    "CSV.write(\"filmes.csv\", movies, append=false)"
   ]
  },
  {
   "cell_type": "code",
   "execution_count": 49,
   "metadata": {},
   "outputs": [
    {
     "name": "stdout",
     "output_type": "stream",
     "text": [
      "titulo,ano,genero,voto_medio,voto,duracao_hm\n",
      "Le voleur invisible,1909,Cortometraggio,7.7,3,7.2\n",
      "L'inferno,1911,Drammatico,8.1,24,1.1333333333333333\n",
      "Robinet aviatore,1911,Cortometraggio,7.3,3,8.933333333333334\n",
      "Les amours de la reine Élisabeth,1912,Drammatico,5.5,2,0.6666666666666666\n",
      "Quo vadis?,1912,Drammatico,9.5,7,2.0\n",
      "\"From the Manger to the Cross; or, Jesus of Nazareth\",1912,Biblico,6.0,2,1.1833333333333333\n",
      "Fantômas - À l'ombre de la guillotine,1913,Poliziesco,7.9,16,0.9\n",
      "Juve contre Fantômas,1913,Poliziesco,7.6,9,0.75\n",
      "La mort qui tue,1913,Poliziesco,7.4,6,1.5\n"
     ]
    }
   ],
   "source": [
    ";head  filmes.csv"
   ]
  },
  {
   "cell_type": "code",
   "execution_count": null,
   "metadata": {},
   "outputs": [],
   "source": []
  }
 ],
 "metadata": {
  "kernelspec": {
   "display_name": "Julia 1.3.1",
   "language": "julia",
   "name": "julia-1.3"
  },
  "language_info": {
   "file_extension": ".jl",
   "mimetype": "application/julia",
   "name": "julia",
   "version": "1.3.1"
  }
 },
 "nbformat": 4,
 "nbformat_minor": 2
}
